{
  "nbformat": 4,
  "nbformat_minor": 0,
  "metadata": {
    "colab": {
      "provenance": [],
      "authorship_tag": "ABX9TyOyYzVvEygbTYujTw3e+adx"
    },
    "kernelspec": {
      "name": "python3",
      "display_name": "Python 3"
    },
    "language_info": {
      "name": "python"
    }
  },
  "cells": [
    {
      "cell_type": "code",
      "execution_count": 4,
      "metadata": {
        "id": "ZL2vRO2sOeLB"
      },
      "outputs": [],
      "source": [
        "import tensorflow as tf\n",
        "from tensorflow import keras\n",
        "from tensorflow.keras.datasets import mnist\n",
        "from tensorflow.keras.models import Sequential\n",
        "from tensorflow.keras.layers import Dense, Dropout, Activation\n",
        "from tensorflow.keras.optimizers import RMSprop, SGD\n",
        "from tensorflow.keras import regularizers\n",
        "import numpy as np\n"
      ]
    },
    {
      "cell_type": "code",
      "source": [
        "learning_rate = 1.5\n",
        "epochs = 30\n",
        "batch_size = 100"
      ],
      "metadata": {
        "id": "HlWcQo1vPUZO"
      },
      "execution_count": 36,
      "outputs": []
    },
    {
      "cell_type": "code",
      "source": [
        "dataset=mnist.load_data()"
      ],
      "metadata": {
        "id": "9HVV0QY-PVLl",
        "colab": {
          "base_uri": "https://localhost:8080/"
        },
        "outputId": "14667613-4705-4880-9ecd-b9b7c2501fbb"
      },
      "execution_count": 6,
      "outputs": [
        {
          "output_type": "stream",
          "name": "stdout",
          "text": [
            "Downloading data from https://storage.googleapis.com/tensorflow/tf-keras-datasets/mnist.npz\n",
            "11490434/11490434 [==============================] - 0s 0us/step\n"
          ]
        }
      ]
    },
    {
      "cell_type": "code",
      "source": [
        "dat=np.array(dataset)\n",
        "print(dat[1,1].shape)\n",
        "(x_train, y_train), (x_test, y_test) = dataset"
      ],
      "metadata": {
        "colab": {
          "base_uri": "https://localhost:8080/"
        },
        "id": "f_bw2KFmPcNk",
        "outputId": "f1605280-44cf-4358-ffd7-4d46aeaa483a"
      },
      "execution_count": 7,
      "outputs": [
        {
          "output_type": "stream",
          "name": "stdout",
          "text": [
            "(10000,)\n"
          ]
        },
        {
          "output_type": "stream",
          "name": "stderr",
          "text": [
            "<ipython-input-7-d86b9ee74159>:1: VisibleDeprecationWarning: Creating an ndarray from ragged nested sequences (which is a list-or-tuple of lists-or-tuples-or ndarrays with different lengths or shapes) is deprecated. If you meant to do this, you must specify 'dtype=object' when creating the ndarray.\n",
            "  dat=np.array(dataset)\n"
          ]
        }
      ]
    },
    {
      "cell_type": "code",
      "source": [
        "x_train.shape"
      ],
      "metadata": {
        "colab": {
          "base_uri": "https://localhost:8080/"
        },
        "id": "V_CvPTv-QEOI",
        "outputId": "258f8a34-5cab-4907-caba-cdf9ee785da7"
      },
      "execution_count": 8,
      "outputs": [
        {
          "output_type": "execute_result",
          "data": {
            "text/plain": [
              "(60000, 28, 28)"
            ]
          },
          "metadata": {},
          "execution_count": 8
        }
      ]
    },
    {
      "cell_type": "code",
      "source": [
        "x_trainv = x_train.reshape(60000, 784)\n",
        "x_testv = x_test.reshape(10000, 784)\n",
        "x_trainv = x_trainv.astype('float32')\n",
        "x_testv = x_testv.astype('float32')\n",
        "\n",
        "x_trainv /= 255  # x_trainv = x_trainv/255\n",
        "x_testv /= 255"
      ],
      "metadata": {
        "id": "EKxZZ7KLQH48"
      },
      "execution_count": 9,
      "outputs": []
    },
    {
      "cell_type": "code",
      "source": [
        "print(y_train[10000])"
      ],
      "metadata": {
        "colab": {
          "base_uri": "https://localhost:8080/"
        },
        "id": "_XIUQkcJQP_X",
        "outputId": "90cecfbf-0a91-48da-8069-db9fbda18604"
      },
      "execution_count": 10,
      "outputs": [
        {
          "output_type": "stream",
          "name": "stdout",
          "text": [
            "3\n"
          ]
        }
      ]
    },
    {
      "cell_type": "code",
      "source": [
        "num_classes=10\n",
        "y_trainc = keras.utils.to_categorical(y_train, num_classes)\n",
        "y_testc = keras.utils.to_categorical(y_test, num_classes)"
      ],
      "metadata": {
        "id": "L-Tyn14lQd5N"
      },
      "execution_count": 11,
      "outputs": []
    },
    {
      "cell_type": "code",
      "source": [
        "y_trainc[10000]"
      ],
      "metadata": {
        "colab": {
          "base_uri": "https://localhost:8080/"
        },
        "id": "bkUVEfR5Qg7N",
        "outputId": "c4769054-dd0f-4179-d917-547847f6c4e0"
      },
      "execution_count": 12,
      "outputs": [
        {
          "output_type": "execute_result",
          "data": {
            "text/plain": [
              "array([0., 0., 0., 1., 0., 0., 0., 0., 0., 0.], dtype=float32)"
            ]
          },
          "metadata": {},
          "execution_count": 12
        }
      ]
    },
    {
      "cell_type": "code",
      "source": [
        "# @title Default title text\n",
        "model = Sequential()\n",
        "model.add(Dense(784, activation='sigmoid', input_shape=(784,)))\n",
        "model.add(Dense(30, activation='sigmoid'))\n",
        "model.add(Dense(30,activation='sigmoid'))\n",
        "model.add(Dense(30,activation='sigmoid'))\n",
        "model.add(Dense(num_classes, activation='sigmoid'))\n",
        "\n",
        "model.summary()"
      ],
      "metadata": {
        "colab": {
          "base_uri": "https://localhost:8080/"
        },
        "id": "LQM0llJVQoPE",
        "outputId": "afeea63c-c417-4c5e-d849-e7756b58db4b"
      },
      "execution_count": 45,
      "outputs": [
        {
          "output_type": "stream",
          "name": "stdout",
          "text": [
            "Model: \"sequential_9\"\n",
            "_________________________________________________________________\n",
            " Layer (type)                Output Shape              Param #   \n",
            "=================================================================\n",
            " dense_34 (Dense)            (None, 784)               615440    \n",
            "                                                                 \n",
            " dense_35 (Dense)            (None, 30)                23550     \n",
            "                                                                 \n",
            " dense_36 (Dense)            (None, 30)                930       \n",
            "                                                                 \n",
            " dense_37 (Dense)            (None, 30)                930       \n",
            "                                                                 \n",
            " dense_38 (Dense)            (None, 10)                310       \n",
            "                                                                 \n",
            "=================================================================\n",
            "Total params: 641160 (2.45 MB)\n",
            "Trainable params: 641160 (2.45 MB)\n",
            "Non-trainable params: 0 (0.00 Byte)\n",
            "_________________________________________________________________\n"
          ]
        }
      ]
    },
    {
      "cell_type": "code",
      "source": [
        "model.compile(loss='categorical_crossentropy',optimizer=SGD(learning_rate=learning_rate),metrics=['accuracy'])"
      ],
      "metadata": {
        "id": "C3T7yFuBwmul"
      },
      "execution_count": 47,
      "outputs": []
    },
    {
      "cell_type": "code",
      "source": [
        "history = model.fit(x_trainv, y_trainc,\n",
        "                    batch_size=batch_size,\n",
        "                    epochs=epochs,\n",
        "                    verbose=1,\n",
        "                    validation_data=(x_testv, y_testc)\n",
        "                    )"
      ],
      "metadata": {
        "colab": {
          "base_uri": "https://localhost:8080/"
        },
        "id": "oPN5h_rNws62",
        "outputId": "1d0d8bf6-e834-4f01-8e74-53c6fec764c8"
      },
      "execution_count": 48,
      "outputs": [
        {
          "output_type": "stream",
          "name": "stdout",
          "text": [
            "Epoch 1/30\n",
            "600/600 [==============================] - 8s 12ms/step - loss: 1.6388 - accuracy: 0.3617 - val_loss: 0.7879 - val_accuracy: 0.7330\n",
            "Epoch 2/30\n",
            "600/600 [==============================] - 7s 12ms/step - loss: 0.5689 - accuracy: 0.8158 - val_loss: 0.3556 - val_accuracy: 0.8999\n",
            "Epoch 3/30\n",
            "600/600 [==============================] - 7s 11ms/step - loss: 0.2711 - accuracy: 0.9226 - val_loss: 0.2257 - val_accuracy: 0.9369\n",
            "Epoch 4/30\n",
            "600/600 [==============================] - 8s 13ms/step - loss: 0.1831 - accuracy: 0.9457 - val_loss: 0.1653 - val_accuracy: 0.9511\n",
            "Epoch 5/30\n",
            "600/600 [==============================] - 6s 11ms/step - loss: 0.1379 - accuracy: 0.9596 - val_loss: 0.1266 - val_accuracy: 0.9631\n",
            "Epoch 6/30\n",
            "600/600 [==============================] - 8s 13ms/step - loss: 0.1096 - accuracy: 0.9677 - val_loss: 0.1060 - val_accuracy: 0.9687\n",
            "Epoch 7/30\n",
            "600/600 [==============================] - 7s 11ms/step - loss: 0.0906 - accuracy: 0.9731 - val_loss: 0.1009 - val_accuracy: 0.9701\n",
            "Epoch 8/30\n",
            "600/600 [==============================] - 8s 13ms/step - loss: 0.0747 - accuracy: 0.9782 - val_loss: 0.0976 - val_accuracy: 0.9728\n",
            "Epoch 9/30\n",
            "600/600 [==============================] - 6s 11ms/step - loss: 0.0626 - accuracy: 0.9813 - val_loss: 0.0932 - val_accuracy: 0.9731\n",
            "Epoch 10/30\n",
            "600/600 [==============================] - 8s 13ms/step - loss: 0.0551 - accuracy: 0.9832 - val_loss: 0.0940 - val_accuracy: 0.9728\n",
            "Epoch 11/30\n",
            "600/600 [==============================] - 6s 11ms/step - loss: 0.0454 - accuracy: 0.9867 - val_loss: 0.0808 - val_accuracy: 0.9773\n",
            "Epoch 12/30\n",
            "600/600 [==============================] - 8s 13ms/step - loss: 0.0412 - accuracy: 0.9878 - val_loss: 0.0998 - val_accuracy: 0.9733\n",
            "Epoch 13/30\n",
            "600/600 [==============================] - 7s 12ms/step - loss: 0.0359 - accuracy: 0.9890 - val_loss: 0.0852 - val_accuracy: 0.9762\n",
            "Epoch 14/30\n",
            "600/600 [==============================] - 7s 12ms/step - loss: 0.0305 - accuracy: 0.9907 - val_loss: 0.0880 - val_accuracy: 0.9763\n",
            "Epoch 15/30\n",
            "600/600 [==============================] - 8s 13ms/step - loss: 0.0240 - accuracy: 0.9934 - val_loss: 0.0900 - val_accuracy: 0.9791\n",
            "Epoch 16/30\n",
            "600/600 [==============================] - 7s 11ms/step - loss: 0.0210 - accuracy: 0.9941 - val_loss: 0.0969 - val_accuracy: 0.9762\n",
            "Epoch 17/30\n",
            "600/600 [==============================] - 8s 13ms/step - loss: 0.0197 - accuracy: 0.9940 - val_loss: 0.0895 - val_accuracy: 0.9781\n",
            "Epoch 18/30\n",
            "600/600 [==============================] - 6s 11ms/step - loss: 0.0154 - accuracy: 0.9958 - val_loss: 0.0869 - val_accuracy: 0.9779\n",
            "Epoch 19/30\n",
            "600/600 [==============================] - 8s 13ms/step - loss: 0.0134 - accuracy: 0.9964 - val_loss: 0.0912 - val_accuracy: 0.9788\n",
            "Epoch 20/30\n",
            "600/600 [==============================] - 6s 11ms/step - loss: 0.0120 - accuracy: 0.9967 - val_loss: 0.0884 - val_accuracy: 0.9800\n",
            "Epoch 21/30\n",
            "600/600 [==============================] - 8s 13ms/step - loss: 0.0096 - accuracy: 0.9976 - val_loss: 0.0826 - val_accuracy: 0.9812\n",
            "Epoch 22/30\n",
            "600/600 [==============================] - 6s 11ms/step - loss: 0.0075 - accuracy: 0.9983 - val_loss: 0.0909 - val_accuracy: 0.9804\n",
            "Epoch 23/30\n",
            "600/600 [==============================] - 7s 12ms/step - loss: 0.0064 - accuracy: 0.9985 - val_loss: 0.0923 - val_accuracy: 0.9801\n",
            "Epoch 24/30\n",
            "600/600 [==============================] - 7s 11ms/step - loss: 0.0077 - accuracy: 0.9979 - val_loss: 0.0924 - val_accuracy: 0.9809\n",
            "Epoch 25/30\n",
            "600/600 [==============================] - 7s 12ms/step - loss: 0.0087 - accuracy: 0.9982 - val_loss: 0.0997 - val_accuracy: 0.9792\n",
            "Epoch 26/30\n",
            "600/600 [==============================] - 6s 11ms/step - loss: 0.0061 - accuracy: 0.9986 - val_loss: 0.1024 - val_accuracy: 0.9784\n",
            "Epoch 27/30\n",
            "600/600 [==============================] - 8s 13ms/step - loss: 0.0034 - accuracy: 0.9995 - val_loss: 0.0932 - val_accuracy: 0.9811\n",
            "Epoch 28/30\n",
            "600/600 [==============================] - 7s 12ms/step - loss: 0.0024 - accuracy: 0.9997 - val_loss: 0.0955 - val_accuracy: 0.9808\n",
            "Epoch 29/30\n",
            "600/600 [==============================] - 7s 11ms/step - loss: 0.0020 - accuracy: 0.9998 - val_loss: 0.0934 - val_accuracy: 0.9817\n",
            "Epoch 30/30\n",
            "600/600 [==============================] - 8s 13ms/step - loss: 0.0017 - accuracy: 0.9999 - val_loss: 0.0945 - val_accuracy: 0.9812\n"
          ]
        }
      ]
    },
    {
      "cell_type": "code",
      "source": [
        "score = model.evaluate(x_testv, y_testc, verbose=1) #evaluar la eficiencia del modelo\n",
        "print(score)\n",
        "a=model.predict(x_testv) #predicción de la red entrenada\n",
        "print(a.shape)\n",
        "print(a[1])\n",
        "print(\"resultado correcto:\")\n",
        "print(y_testc[1])"
      ],
      "metadata": {
        "colab": {
          "base_uri": "https://localhost:8080/"
        },
        "id": "ujTZ-zbJwwhB",
        "outputId": "abc74571-f0eb-4016-834b-cf31e4b5ab32"
      },
      "execution_count": 29,
      "outputs": [
        {
          "output_type": "stream",
          "name": "stdout",
          "text": [
            "313/313 [==============================] - 1s 3ms/step - loss: 12.8816 - accuracy: 0.1028\n",
            "[12.881590843200684, 0.10279999673366547]\n",
            "313/313 [==============================] - 1s 3ms/step\n",
            "(10000, 10)\n",
            "[ 7.4229374  -0.9971086  -1.         -0.9966879  -1.         -0.9965655\n",
            " -0.9968716   7.6212006  -0.9964005  -0.99757016]\n",
            "resultado correcto:\n",
            "[0. 0. 1. 0. 0. 0. 0. 0. 0. 0.]\n"
          ]
        }
      ]
    }
  ]
}