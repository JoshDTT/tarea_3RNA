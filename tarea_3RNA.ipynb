{
  "nbformat": 4,
  "nbformat_minor": 0,
  "metadata": {
    "colab": {
      "provenance": [],
      "authorship_tag": "ABX9TyNyfecV0COY3E/IfAnXJsDJ"
    },
    "kernelspec": {
      "name": "python3",
      "display_name": "Python 3"
    },
    "language_info": {
      "name": "python"
    }
  },
  "cells": [
    {
      "cell_type": "code",
      "execution_count": 4,
      "metadata": {
        "id": "ZL2vRO2sOeLB"
      },
      "outputs": [],
      "source": [
        "import tensorflow as tf\n",
        "from tensorflow import keras\n",
        "from tensorflow.keras.datasets import mnist\n",
        "from tensorflow.keras.models import Sequential\n",
        "from tensorflow.keras.layers import Dense, Dropout, Activation\n",
        "from tensorflow.keras.optimizers import RMSprop, SGD\n",
        "from tensorflow.keras import regularizers\n",
        "import numpy as np\n"
      ]
    },
    {
      "cell_type": "code",
      "source": [
        "learning_rate = 1\n",
        "epochs = 30\n",
        "batch_size = 100"
      ],
      "metadata": {
        "id": "HlWcQo1vPUZO"
      },
      "execution_count": 5,
      "outputs": []
    },
    {
      "cell_type": "code",
      "source": [
        "dataset=mnist.load_data()"
      ],
      "metadata": {
        "id": "9HVV0QY-PVLl",
        "colab": {
          "base_uri": "https://localhost:8080/"
        },
        "outputId": "14667613-4705-4880-9ecd-b9b7c2501fbb"
      },
      "execution_count": 6,
      "outputs": [
        {
          "output_type": "stream",
          "name": "stdout",
          "text": [
            "Downloading data from https://storage.googleapis.com/tensorflow/tf-keras-datasets/mnist.npz\n",
            "11490434/11490434 [==============================] - 0s 0us/step\n"
          ]
        }
      ]
    },
    {
      "cell_type": "code",
      "source": [
        "dat=np.array(dataset)\n",
        "print(dat[1,1].shape)\n",
        "(x_train, y_train), (x_test, y_test) = dataset"
      ],
      "metadata": {
        "colab": {
          "base_uri": "https://localhost:8080/"
        },
        "id": "f_bw2KFmPcNk",
        "outputId": "f1605280-44cf-4358-ffd7-4d46aeaa483a"
      },
      "execution_count": 7,
      "outputs": [
        {
          "output_type": "stream",
          "name": "stdout",
          "text": [
            "(10000,)\n"
          ]
        },
        {
          "output_type": "stream",
          "name": "stderr",
          "text": [
            "<ipython-input-7-d86b9ee74159>:1: VisibleDeprecationWarning: Creating an ndarray from ragged nested sequences (which is a list-or-tuple of lists-or-tuples-or ndarrays with different lengths or shapes) is deprecated. If you meant to do this, you must specify 'dtype=object' when creating the ndarray.\n",
            "  dat=np.array(dataset)\n"
          ]
        }
      ]
    },
    {
      "cell_type": "code",
      "source": [
        "x_train.shape"
      ],
      "metadata": {
        "colab": {
          "base_uri": "https://localhost:8080/"
        },
        "id": "V_CvPTv-QEOI",
        "outputId": "258f8a34-5cab-4907-caba-cdf9ee785da7"
      },
      "execution_count": 8,
      "outputs": [
        {
          "output_type": "execute_result",
          "data": {
            "text/plain": [
              "(60000, 28, 28)"
            ]
          },
          "metadata": {},
          "execution_count": 8
        }
      ]
    },
    {
      "cell_type": "code",
      "source": [
        "x_trainv = x_train.reshape(60000, 784)\n",
        "x_testv = x_test.reshape(10000, 784)\n",
        "x_trainv = x_trainv.astype('float32')\n",
        "x_testv = x_testv.astype('float32')\n",
        "\n",
        "x_trainv /= 255  # x_trainv = x_trainv/255\n",
        "x_testv /= 255"
      ],
      "metadata": {
        "id": "EKxZZ7KLQH48"
      },
      "execution_count": 9,
      "outputs": []
    },
    {
      "cell_type": "code",
      "source": [
        "print(y_train[10000])"
      ],
      "metadata": {
        "colab": {
          "base_uri": "https://localhost:8080/"
        },
        "id": "_XIUQkcJQP_X",
        "outputId": "90cecfbf-0a91-48da-8069-db9fbda18604"
      },
      "execution_count": 10,
      "outputs": [
        {
          "output_type": "stream",
          "name": "stdout",
          "text": [
            "3\n"
          ]
        }
      ]
    },
    {
      "cell_type": "code",
      "source": [
        "num_classes=10\n",
        "y_trainc = keras.utils.to_categorical(y_train, num_classes)\n",
        "y_testc = keras.utils.to_categorical(y_test, num_classes)"
      ],
      "metadata": {
        "id": "L-Tyn14lQd5N"
      },
      "execution_count": 11,
      "outputs": []
    },
    {
      "cell_type": "code",
      "source": [
        "y_trainc[10000]"
      ],
      "metadata": {
        "colab": {
          "base_uri": "https://localhost:8080/"
        },
        "id": "bkUVEfR5Qg7N",
        "outputId": "c4769054-dd0f-4179-d917-547847f6c4e0"
      },
      "execution_count": 12,
      "outputs": [
        {
          "output_type": "execute_result",
          "data": {
            "text/plain": [
              "array([0., 0., 0., 1., 0., 0., 0., 0., 0., 0.], dtype=float32)"
            ]
          },
          "metadata": {},
          "execution_count": 12
        }
      ]
    },
    {
      "cell_type": "code",
      "source": [
        "# @title Default title text\n",
        "model = Sequential()\n",
        "model.add(Dense(784, activation='relu', input_shape=(784,)))\n",
        "model.add(Dense(40, activation='sigmoid'))\n",
        "model.add(Dense(num_classes, activation='elu'))\n",
        "\n",
        "model.summary()"
      ],
      "metadata": {
        "colab": {
          "base_uri": "https://localhost:8080/"
        },
        "id": "LQM0llJVQoPE",
        "outputId": "18b871a3-b495-4795-a4c7-d0372c1b3ae6"
      },
      "execution_count": 26,
      "outputs": [
        {
          "output_type": "stream",
          "name": "stdout",
          "text": [
            "Model: \"sequential_3\"\n",
            "_________________________________________________________________\n",
            " Layer (type)                Output Shape              Param #   \n",
            "=================================================================\n",
            " dense_6 (Dense)             (None, 784)               615440    \n",
            "                                                                 \n",
            " dense_7 (Dense)             (None, 40)                31400     \n",
            "                                                                 \n",
            " dense_8 (Dense)             (None, 10)                410       \n",
            "                                                                 \n",
            "=================================================================\n",
            "Total params: 647250 (2.47 MB)\n",
            "Trainable params: 647250 (2.47 MB)\n",
            "Non-trainable params: 0 (0.00 Byte)\n",
            "_________________________________________________________________\n"
          ]
        }
      ]
    },
    {
      "cell_type": "code",
      "source": [
        "model.compile(loss='categorical_crossentropy',optimizer=SGD(learning_rate=learning_rate),metrics=['accuracy'])"
      ],
      "metadata": {
        "id": "C3T7yFuBwmul"
      },
      "execution_count": 27,
      "outputs": []
    },
    {
      "cell_type": "code",
      "source": [
        "history = model.fit(x_trainv, y_trainc,\n",
        "                    batch_size=batch_size,\n",
        "                    epochs=epochs,\n",
        "                    verbose=1,\n",
        "                    validation_data=(x_testv, y_testc)\n",
        "                    )"
      ],
      "metadata": {
        "colab": {
          "base_uri": "https://localhost:8080/"
        },
        "id": "oPN5h_rNws62",
        "outputId": "15d10271-f067-4036-8328-a8f8c0ab13cb"
      },
      "execution_count": 28,
      "outputs": [
        {
          "output_type": "stream",
          "name": "stdout",
          "text": [
            "Epoch 1/30\n",
            "2000/2000 [==============================] - 14s 7ms/step - loss: 11.8467 - accuracy: 0.1080 - val_loss: 12.8816 - val_accuracy: 0.1028\n",
            "Epoch 2/30\n",
            "2000/2000 [==============================] - 13s 7ms/step - loss: 12.8439 - accuracy: 0.1044 - val_loss: 12.8816 - val_accuracy: 0.1028\n",
            "Epoch 3/30\n",
            "2000/2000 [==============================] - 13s 7ms/step - loss: 12.8439 - accuracy: 0.1044 - val_loss: 12.8816 - val_accuracy: 0.1028\n",
            "Epoch 4/30\n",
            "2000/2000 [==============================] - 13s 7ms/step - loss: 12.8439 - accuracy: 0.1044 - val_loss: 12.8816 - val_accuracy: 0.1028\n",
            "Epoch 5/30\n",
            "2000/2000 [==============================] - 13s 7ms/step - loss: 12.8439 - accuracy: 0.1044 - val_loss: 12.8816 - val_accuracy: 0.1028\n",
            "Epoch 6/30\n",
            "2000/2000 [==============================] - 13s 7ms/step - loss: 12.8439 - accuracy: 0.1044 - val_loss: 12.8816 - val_accuracy: 0.1028\n",
            "Epoch 7/30\n",
            "2000/2000 [==============================] - 13s 7ms/step - loss: 12.8439 - accuracy: 0.1044 - val_loss: 12.8816 - val_accuracy: 0.1028\n",
            "Epoch 8/30\n",
            "2000/2000 [==============================] - 13s 6ms/step - loss: 12.8439 - accuracy: 0.1044 - val_loss: 12.8816 - val_accuracy: 0.1028\n",
            "Epoch 9/30\n",
            "2000/2000 [==============================] - 13s 6ms/step - loss: 12.8439 - accuracy: 0.1044 - val_loss: 12.8816 - val_accuracy: 0.1028\n",
            "Epoch 10/30\n",
            "2000/2000 [==============================] - 13s 7ms/step - loss: 12.8439 - accuracy: 0.1044 - val_loss: 12.8816 - val_accuracy: 0.1028\n",
            "Epoch 11/30\n",
            "2000/2000 [==============================] - 13s 7ms/step - loss: 12.8439 - accuracy: 0.1044 - val_loss: 12.8816 - val_accuracy: 0.1028\n",
            "Epoch 12/30\n",
            "2000/2000 [==============================] - 13s 6ms/step - loss: 12.8439 - accuracy: 0.1044 - val_loss: 12.8816 - val_accuracy: 0.1028\n",
            "Epoch 13/30\n",
            "2000/2000 [==============================] - 13s 7ms/step - loss: 12.8439 - accuracy: 0.1044 - val_loss: 12.8816 - val_accuracy: 0.1028\n",
            "Epoch 14/30\n",
            "2000/2000 [==============================] - 13s 7ms/step - loss: 12.8439 - accuracy: 0.1044 - val_loss: 12.8816 - val_accuracy: 0.1028\n",
            "Epoch 15/30\n",
            "2000/2000 [==============================] - 13s 6ms/step - loss: 12.8439 - accuracy: 0.1044 - val_loss: 12.8816 - val_accuracy: 0.1028\n",
            "Epoch 16/30\n",
            "2000/2000 [==============================] - 13s 7ms/step - loss: 12.8439 - accuracy: 0.1044 - val_loss: 12.8816 - val_accuracy: 0.1028\n",
            "Epoch 17/30\n",
            "2000/2000 [==============================] - 13s 7ms/step - loss: 12.8439 - accuracy: 0.1044 - val_loss: 12.8816 - val_accuracy: 0.1028\n",
            "Epoch 18/30\n",
            "2000/2000 [==============================] - 13s 7ms/step - loss: 12.8439 - accuracy: 0.1044 - val_loss: 12.8816 - val_accuracy: 0.1028\n",
            "Epoch 19/30\n",
            "2000/2000 [==============================] - 13s 7ms/step - loss: 12.8439 - accuracy: 0.1044 - val_loss: 12.8816 - val_accuracy: 0.1028\n",
            "Epoch 20/30\n",
            "2000/2000 [==============================] - 13s 7ms/step - loss: 12.8439 - accuracy: 0.1044 - val_loss: 12.8816 - val_accuracy: 0.1028\n",
            "Epoch 21/30\n",
            "2000/2000 [==============================] - 13s 7ms/step - loss: 12.8439 - accuracy: 0.1044 - val_loss: 12.8816 - val_accuracy: 0.1028\n",
            "Epoch 22/30\n",
            "2000/2000 [==============================] - 13s 7ms/step - loss: 12.8439 - accuracy: 0.1044 - val_loss: 12.8816 - val_accuracy: 0.1028\n",
            "Epoch 23/30\n",
            "2000/2000 [==============================] - 13s 7ms/step - loss: 12.8439 - accuracy: 0.1044 - val_loss: 12.8816 - val_accuracy: 0.1028\n",
            "Epoch 24/30\n",
            "2000/2000 [==============================] - 13s 7ms/step - loss: 12.8439 - accuracy: 0.1044 - val_loss: 12.8816 - val_accuracy: 0.1028\n",
            "Epoch 25/30\n",
            "2000/2000 [==============================] - 13s 7ms/step - loss: 12.8439 - accuracy: 0.1044 - val_loss: 12.8816 - val_accuracy: 0.1028\n",
            "Epoch 26/30\n",
            "2000/2000 [==============================] - 13s 6ms/step - loss: 12.8439 - accuracy: 0.1044 - val_loss: 12.8816 - val_accuracy: 0.1028\n",
            "Epoch 27/30\n",
            "2000/2000 [==============================] - 13s 7ms/step - loss: 12.8439 - accuracy: 0.1044 - val_loss: 12.8816 - val_accuracy: 0.1028\n",
            "Epoch 28/30\n",
            "2000/2000 [==============================] - 13s 7ms/step - loss: 12.8439 - accuracy: 0.1044 - val_loss: 12.8816 - val_accuracy: 0.1028\n",
            "Epoch 29/30\n",
            "2000/2000 [==============================] - 13s 7ms/step - loss: 12.8439 - accuracy: 0.1044 - val_loss: 12.8816 - val_accuracy: 0.1028\n",
            "Epoch 30/30\n",
            "2000/2000 [==============================] - 13s 7ms/step - loss: 12.8439 - accuracy: 0.1044 - val_loss: 12.8816 - val_accuracy: 0.1028\n"
          ]
        }
      ]
    },
    {
      "cell_type": "code",
      "source": [
        "score = model.evaluate(x_testv, y_testc, verbose=1) #evaluar la eficiencia del modelo\n",
        "print(score)\n",
        "a=model.predict(x_testv) #predicción de la red entrenada\n",
        "print(a.shape)\n",
        "print(a[1])\n",
        "print(\"resultado correcto:\")\n",
        "print(y_testc[1])"
      ],
      "metadata": {
        "id": "ujTZ-zbJwwhB"
      },
      "execution_count": null,
      "outputs": []
    }
  ]
}