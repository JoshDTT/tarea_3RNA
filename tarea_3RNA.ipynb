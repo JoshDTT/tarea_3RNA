{
  "cells": [
    {
      "cell_type": "code",
      "execution_count": 1,
      "metadata": {
        "id": "ZL2vRO2sOeLB"
      },
      "outputs": [],
      "source": [
        "import tensorflow as tf\n",
        "from tensorflow import keras\n",
        "from tensorflow.keras.datasets import mnist\n",
        "from tensorflow.keras.models import Sequential\n",
        "from tensorflow.keras.layers import Dense, Dropout, Activation\n",
        "from tensorflow.keras.optimizers import RMSprop, SGD\n",
        "from tensorflow.keras import regularizers\n",
        "from keras.regularizers import l1, l2\n",
        "import numpy as np\n"
      ]
    },
    {
      "cell_type": "code",
      "execution_count": 2,
      "metadata": {
        "id": "HlWcQo1vPUZO"
      },
      "outputs": [],
      "source": [
        "learning_rate = 1.5\n",
        "epochs = 30\n",
        "batch_size = 100"
      ]
    },
    {
      "cell_type": "code",
      "execution_count": 3,
      "metadata": {
        "id": "9HVV0QY-PVLl",
        "colab": {
          "base_uri": "https://localhost:8080/"
        },
        "outputId": "b3be5d39-c477-42dc-bc87-ba25b66ed674"
      },
      "outputs": [
        {
          "output_type": "stream",
          "name": "stdout",
          "text": [
            "Downloading data from https://storage.googleapis.com/tensorflow/tf-keras-datasets/mnist.npz\n",
            "11490434/11490434 [==============================] - 0s 0us/step\n"
          ]
        }
      ],
      "source": [
        "dataset=mnist.load_data()"
      ]
    },
    {
      "cell_type": "code",
      "execution_count": 4,
      "metadata": {
        "colab": {
          "base_uri": "https://localhost:8080/"
        },
        "id": "f_bw2KFmPcNk",
        "outputId": "21834173-0fc7-4621-bd72-87e85df63017"
      },
      "outputs": [
        {
          "output_type": "stream",
          "name": "stdout",
          "text": [
            "(10000,)\n"
          ]
        },
        {
          "output_type": "stream",
          "name": "stderr",
          "text": [
            "<ipython-input-4-d86b9ee74159>:1: VisibleDeprecationWarning: Creating an ndarray from ragged nested sequences (which is a list-or-tuple of lists-or-tuples-or ndarrays with different lengths or shapes) is deprecated. If you meant to do this, you must specify 'dtype=object' when creating the ndarray.\n",
            "  dat=np.array(dataset)\n"
          ]
        }
      ],
      "source": [
        "dat=np.array(dataset)\n",
        "print(dat[1,1].shape)\n",
        "(x_train, y_train), (x_test, y_test) = dataset"
      ]
    },
    {
      "cell_type": "code",
      "execution_count": 5,
      "metadata": {
        "colab": {
          "base_uri": "https://localhost:8080/"
        },
        "id": "V_CvPTv-QEOI",
        "outputId": "d804e42a-58a8-44b6-9d54-c1e899e8c5ee"
      },
      "outputs": [
        {
          "output_type": "execute_result",
          "data": {
            "text/plain": [
              "(60000, 28, 28)"
            ]
          },
          "metadata": {},
          "execution_count": 5
        }
      ],
      "source": [
        "x_train.shape"
      ]
    },
    {
      "cell_type": "code",
      "execution_count": 6,
      "metadata": {
        "id": "EKxZZ7KLQH48"
      },
      "outputs": [],
      "source": [
        "x_trainv = x_train.reshape(60000, 784)\n",
        "x_testv = x_test.reshape(10000, 784)\n",
        "x_trainv = x_trainv.astype('float32')\n",
        "x_testv = x_testv.astype('float32')\n",
        "\n",
        "x_trainv /= 255  # x_trainv = x_trainv/255\n",
        "x_testv /= 255"
      ]
    },
    {
      "cell_type": "code",
      "execution_count": 7,
      "metadata": {
        "colab": {
          "base_uri": "https://localhost:8080/"
        },
        "id": "_XIUQkcJQP_X",
        "outputId": "df5431db-9cc2-43bf-941a-3417a28832b7"
      },
      "outputs": [
        {
          "output_type": "stream",
          "name": "stdout",
          "text": [
            "3\n"
          ]
        }
      ],
      "source": [
        "print(y_train[10000])"
      ]
    },
    {
      "cell_type": "code",
      "execution_count": 8,
      "metadata": {
        "id": "L-Tyn14lQd5N"
      },
      "outputs": [],
      "source": [
        "num_classes=10\n",
        "y_trainc = keras.utils.to_categorical(y_train, num_classes)\n",
        "y_testc = keras.utils.to_categorical(y_test, num_classes)"
      ]
    },
    {
      "cell_type": "code",
      "execution_count": 9,
      "metadata": {
        "colab": {
          "base_uri": "https://localhost:8080/"
        },
        "id": "bkUVEfR5Qg7N",
        "outputId": "0a200b9c-ea3f-4f1d-9b4f-7ae68c49196a"
      },
      "outputs": [
        {
          "output_type": "execute_result",
          "data": {
            "text/plain": [
              "array([0., 0., 0., 1., 0., 0., 0., 0., 0., 0.], dtype=float32)"
            ]
          },
          "metadata": {},
          "execution_count": 9
        }
      ],
      "source": [
        "y_trainc[10000]"
      ]
    },
    {
      "cell_type": "code",
      "execution_count": 29,
      "metadata": {
        "colab": {
          "base_uri": "https://localhost:8080/"
        },
        "id": "LQM0llJVQoPE",
        "outputId": "da96c4dd-d89b-46a0-d267-5fe257093b33"
      },
      "outputs": [
        {
          "output_type": "stream",
          "name": "stdout",
          "text": [
            "Model: \"sequential_6\"\n",
            "_________________________________________________________________\n",
            " Layer (type)                Output Shape              Param #   \n",
            "=================================================================\n",
            " dense_30 (Dense)            (None, 784)               615440    \n",
            "                                                                 \n",
            " dense_31 (Dense)            (None, 30)                23550     \n",
            "                                                                 \n",
            " dense_32 (Dense)            (None, 30)                930       \n",
            "                                                                 \n",
            " dense_33 (Dense)            (None, 30)                930       \n",
            "                                                                 \n",
            " dense_34 (Dense)            (None, 10)                310       \n",
            "                                                                 \n",
            "=================================================================\n",
            "Total params: 641160 (2.45 MB)\n",
            "Trainable params: 641160 (2.45 MB)\n",
            "Non-trainable params: 0 (0.00 Byte)\n",
            "_________________________________________________________________\n"
          ]
        }
      ],
      "source": [
        "# @title Default title text\n",
        "model = Sequential()\n",
        "model.add(Dense(784, activation='sigmoid', input_shape=(784,)))\n",
        "model.add(Dense(30, activation='sigmoid'))\n",
        "model.add(Dense(30,activation='sigmoid',kernel_regularizer=regularizers.l1(0.03)))\n",
        "model.add(Dense(30,activation='sigmoid',kernel_regularizer=regularizers.l2(0.03)))\n",
        "model.add(Dense(num_classes, activation='sigmoid'))\n",
        "\n",
        "model.summary()"
      ]
    },
    {
      "cell_type": "code",
      "execution_count": 27,
      "metadata": {
        "id": "C3T7yFuBwmul"
      },
      "outputs": [],
      "source": [
        "model.compile(loss='categorical_crossentropy',optimizer=SGD(learning_rate=learning_rate),metrics=['accuracy'])"
      ]
    },
    {
      "cell_type": "code",
      "execution_count": 28,
      "metadata": {
        "colab": {
          "base_uri": "https://localhost:8080/"
        },
        "id": "oPN5h_rNws62",
        "outputId": "0a5c7192-9dc6-4b40-96d0-273a2321281d"
      },
      "outputs": [
        {
          "output_type": "stream",
          "name": "stdout",
          "text": [
            "Epoch 1/30\n",
            "600/600 [==============================] - 8s 12ms/step - loss: 2.4238 - accuracy: 0.1018 - val_loss: 2.3772 - val_accuracy: 0.1010\n",
            "Epoch 2/30\n",
            "600/600 [==============================] - 8s 14ms/step - loss: 2.3826 - accuracy: 0.1031 - val_loss: 2.3739 - val_accuracy: 0.1009\n",
            "Epoch 3/30\n",
            "600/600 [==============================] - 8s 13ms/step - loss: 2.3785 - accuracy: 0.1047 - val_loss: 2.3780 - val_accuracy: 0.1135\n",
            "Epoch 4/30\n",
            "600/600 [==============================] - 8s 13ms/step - loss: 2.3769 - accuracy: 0.1053 - val_loss: 2.3774 - val_accuracy: 0.1032\n",
            "Epoch 5/30\n",
            "600/600 [==============================] - 8s 14ms/step - loss: 2.3759 - accuracy: 0.1058 - val_loss: 2.3772 - val_accuracy: 0.1135\n",
            "Epoch 6/30\n",
            "600/600 [==============================] - 7s 12ms/step - loss: 2.3753 - accuracy: 0.1028 - val_loss: 2.3779 - val_accuracy: 0.1135\n",
            "Epoch 7/30\n",
            "600/600 [==============================] - 8s 14ms/step - loss: 2.3749 - accuracy: 0.1048 - val_loss: 2.3728 - val_accuracy: 0.1135\n",
            "Epoch 8/30\n",
            "600/600 [==============================] - 8s 13ms/step - loss: 2.3740 - accuracy: 0.1035 - val_loss: 2.3746 - val_accuracy: 0.1135\n",
            "Epoch 9/30\n",
            "600/600 [==============================] - 7s 12ms/step - loss: 2.3736 - accuracy: 0.1063 - val_loss: 2.3766 - val_accuracy: 0.1135\n",
            "Epoch 10/30\n",
            "600/600 [==============================] - 8s 14ms/step - loss: 2.3736 - accuracy: 0.1067 - val_loss: 2.3742 - val_accuracy: 0.1010\n",
            "Epoch 11/30\n",
            "600/600 [==============================] - 7s 12ms/step - loss: 2.3738 - accuracy: 0.1031 - val_loss: 2.3720 - val_accuracy: 0.1028\n",
            "Epoch 12/30\n",
            "600/600 [==============================] - 8s 14ms/step - loss: 2.3735 - accuracy: 0.1050 - val_loss: 2.3741 - val_accuracy: 0.0974\n",
            "Epoch 13/30\n",
            "600/600 [==============================] - 7s 12ms/step - loss: 2.3733 - accuracy: 0.1027 - val_loss: 2.3735 - val_accuracy: 0.1135\n",
            "Epoch 14/30\n",
            "600/600 [==============================] - 8s 13ms/step - loss: 2.3732 - accuracy: 0.1054 - val_loss: 2.3749 - val_accuracy: 0.1028\n",
            "Epoch 15/30\n",
            "600/600 [==============================] - 8s 14ms/step - loss: 2.3730 - accuracy: 0.1036 - val_loss: 2.3733 - val_accuracy: 0.1028\n",
            "Epoch 16/30\n",
            "600/600 [==============================] - 7s 12ms/step - loss: 2.3731 - accuracy: 0.1052 - val_loss: 2.3762 - val_accuracy: 0.1028\n",
            "Epoch 17/30\n",
            "600/600 [==============================] - 8s 14ms/step - loss: 2.3729 - accuracy: 0.1057 - val_loss: 2.3738 - val_accuracy: 0.0892\n",
            "Epoch 18/30\n",
            "600/600 [==============================] - 7s 12ms/step - loss: 2.3727 - accuracy: 0.1052 - val_loss: 2.3763 - val_accuracy: 0.1028\n",
            "Epoch 19/30\n",
            "600/600 [==============================] - 8s 14ms/step - loss: 2.3732 - accuracy: 0.1042 - val_loss: 2.3732 - val_accuracy: 0.0974\n",
            "Epoch 20/30\n",
            "600/600 [==============================] - 8s 13ms/step - loss: 2.3723 - accuracy: 0.1081 - val_loss: 2.3724 - val_accuracy: 0.1135\n",
            "Epoch 21/30\n",
            "600/600 [==============================] - 8s 13ms/step - loss: 2.3727 - accuracy: 0.1040 - val_loss: 2.3747 - val_accuracy: 0.1028\n",
            "Epoch 22/30\n",
            "600/600 [==============================] - 8s 14ms/step - loss: 2.3733 - accuracy: 0.1038 - val_loss: 2.3723 - val_accuracy: 0.1135\n",
            "Epoch 23/30\n",
            "600/600 [==============================] - 7s 12ms/step - loss: 2.3730 - accuracy: 0.1042 - val_loss: 2.3727 - val_accuracy: 0.0974\n",
            "Epoch 24/30\n",
            "600/600 [==============================] - 8s 14ms/step - loss: 2.3729 - accuracy: 0.1058 - val_loss: 2.3761 - val_accuracy: 0.0958\n",
            "Epoch 25/30\n",
            "600/600 [==============================] - 8s 14ms/step - loss: 2.3727 - accuracy: 0.1058 - val_loss: 2.3722 - val_accuracy: 0.1135\n",
            "Epoch 26/30\n",
            "600/600 [==============================] - 8s 13ms/step - loss: 2.3730 - accuracy: 0.1046 - val_loss: 2.3738 - val_accuracy: 0.1028\n",
            "Epoch 27/30\n",
            "600/600 [==============================] - 8s 14ms/step - loss: 2.3729 - accuracy: 0.1054 - val_loss: 2.3718 - val_accuracy: 0.1135\n",
            "Epoch 28/30\n",
            "600/600 [==============================] - 7s 12ms/step - loss: 2.3726 - accuracy: 0.1063 - val_loss: 2.3722 - val_accuracy: 0.1135\n",
            "Epoch 29/30\n",
            "600/600 [==============================] - 8s 14ms/step - loss: 2.3727 - accuracy: 0.1048 - val_loss: 2.3777 - val_accuracy: 0.1010\n",
            "Epoch 30/30\n",
            "600/600 [==============================] - 8s 14ms/step - loss: 2.3728 - accuracy: 0.1042 - val_loss: 2.3714 - val_accuracy: 0.1028\n"
          ]
        }
      ],
      "source": [
        "history = model.fit(x_trainv, y_trainc,\n",
        "                    batch_size=batch_size,\n",
        "                    epochs=epochs,\n",
        "                    verbose=1,\n",
        "                    validation_data=(x_testv, y_testc)\n",
        "                    )"
      ]
    },
    {
      "cell_type": "code",
      "execution_count": 13,
      "metadata": {
        "id": "ujTZ-zbJwwhB",
        "colab": {
          "base_uri": "https://localhost:8080/"
        },
        "outputId": "c6082c2e-0bc2-4368-9154-43354590f61d"
      },
      "outputs": [
        {
          "output_type": "stream",
          "name": "stdout",
          "text": [
            "313/313 [==============================] - 2s 5ms/step - loss: 2.3055 - accuracy: 0.1135\n",
            "[2.305537700653076, 0.11349999904632568]\n",
            "313/313 [==============================] - 1s 4ms/step\n",
            "(10000, 10)\n",
            "[0.4585412  0.5534357  0.5267291  0.50011915 0.48209292 0.4897176\n",
            " 0.50793403 0.46977457 0.49828842 0.46145898]\n",
            "resultado correcto:\n",
            "[0. 0. 1. 0. 0. 0. 0. 0. 0. 0.]\n"
          ]
        }
      ],
      "source": [
        "score = model.evaluate(x_testv, y_testc, verbose=1) #evaluar la eficiencia del modelo\n",
        "print(score)\n",
        "a=model.predict(x_testv) #predicción de la red entrenada\n",
        "print(a.shape)\n",
        "print(a[1])\n",
        "print(\"resultado correcto:\")\n",
        "print(y_testc[1])"
      ]
    }
  ],
  "metadata": {
    "colab": {
      "provenance": [],
      "authorship_tag": "ABX9TyPFGIunyuqFlM1fUwBxDmSV"
    },
    "kernelspec": {
      "display_name": "Python 3",
      "name": "python3"
    },
    "language_info": {
      "name": "python"
    }
  },
  "nbformat": 4,
  "nbformat_minor": 0
}