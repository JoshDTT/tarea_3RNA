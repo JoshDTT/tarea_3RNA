{
  "cells": [
    {
      "cell_type": "code",
      "execution_count": 1,
      "metadata": {
        "id": "ZL2vRO2sOeLB"
      },
      "outputs": [],
      "source": [
        "import tensorflow as tf\n",
        "from tensorflow import keras\n",
        "from tensorflow.keras.datasets import mnist\n",
        "from tensorflow.keras.models import Sequential\n",
        "from tensorflow.keras.layers import Dense, Dropout, Activation\n",
        "from tensorflow.keras.optimizers import RMSprop, SGD\n",
        "from tensorflow.keras import regularizers\n",
        "from keras.regularizers import l1, l2\n",
        "import numpy as np\n"
      ]
    },
    {
      "cell_type": "code",
      "execution_count": 2,
      "metadata": {
        "id": "HlWcQo1vPUZO"
      },
      "outputs": [],
      "source": [
        "learning_rate = 1.5\n",
        "epochs = 30\n",
        "batch_size = 100"
      ]
    },
    {
      "cell_type": "code",
      "execution_count": 3,
      "metadata": {
        "id": "9HVV0QY-PVLl"
      },
      "outputs": [],
      "source": [
        "dataset=mnist.load_data()"
      ]
    },
    {
      "cell_type": "code",
      "execution_count": 4,
      "metadata": {
        "colab": {
          "base_uri": "https://localhost:8080/"
        },
        "id": "f_bw2KFmPcNk",
        "outputId": "81cdb46c-e987-49a8-b139-7de3671bef7a"
      },
      "outputs": [
        {
          "output_type": "stream",
          "name": "stdout",
          "text": [
            "(10000,)\n"
          ]
        },
        {
          "output_type": "stream",
          "name": "stderr",
          "text": [
            "<ipython-input-4-d86b9ee74159>:1: VisibleDeprecationWarning: Creating an ndarray from ragged nested sequences (which is a list-or-tuple of lists-or-tuples-or ndarrays with different lengths or shapes) is deprecated. If you meant to do this, you must specify 'dtype=object' when creating the ndarray.\n",
            "  dat=np.array(dataset)\n"
          ]
        }
      ],
      "source": [
        "dat=np.array(dataset)\n",
        "print(dat[1,1].shape)\n",
        "(x_train, y_train), (x_test, y_test) = dataset"
      ]
    },
    {
      "cell_type": "code",
      "execution_count": 5,
      "metadata": {
        "colab": {
          "base_uri": "https://localhost:8080/"
        },
        "id": "V_CvPTv-QEOI",
        "outputId": "5d524ac0-46d1-4af3-8156-93859f6a851d"
      },
      "outputs": [
        {
          "output_type": "execute_result",
          "data": {
            "text/plain": [
              "(60000, 28, 28)"
            ]
          },
          "metadata": {},
          "execution_count": 5
        }
      ],
      "source": [
        "x_train.shape"
      ]
    },
    {
      "cell_type": "code",
      "execution_count": 6,
      "metadata": {
        "id": "EKxZZ7KLQH48"
      },
      "outputs": [],
      "source": [
        "x_trainv = x_train.reshape(60000, 784)\n",
        "x_testv = x_test.reshape(10000, 784)\n",
        "x_trainv = x_trainv.astype('float32')\n",
        "x_testv = x_testv.astype('float32')\n",
        "\n",
        "x_trainv /= 255  # x_trainv = x_trainv/255\n",
        "x_testv /= 255"
      ]
    },
    {
      "cell_type": "code",
      "execution_count": 7,
      "metadata": {
        "colab": {
          "base_uri": "https://localhost:8080/"
        },
        "id": "_XIUQkcJQP_X",
        "outputId": "b3a401f9-80d7-47dd-98b0-9353ed226f92"
      },
      "outputs": [
        {
          "output_type": "stream",
          "name": "stdout",
          "text": [
            "3\n"
          ]
        }
      ],
      "source": [
        "print(y_train[10000])"
      ]
    },
    {
      "cell_type": "code",
      "execution_count": 8,
      "metadata": {
        "id": "L-Tyn14lQd5N"
      },
      "outputs": [],
      "source": [
        "num_classes=10\n",
        "y_trainc = keras.utils.to_categorical(y_train, num_classes)\n",
        "y_testc = keras.utils.to_categorical(y_test, num_classes)"
      ]
    },
    {
      "cell_type": "code",
      "execution_count": 9,
      "metadata": {
        "colab": {
          "base_uri": "https://localhost:8080/"
        },
        "id": "bkUVEfR5Qg7N",
        "outputId": "5bfb9b22-5538-469d-8a42-89edc64e6424"
      },
      "outputs": [
        {
          "output_type": "execute_result",
          "data": {
            "text/plain": [
              "array([0., 0., 0., 1., 0., 0., 0., 0., 0., 0.], dtype=float32)"
            ]
          },
          "metadata": {},
          "execution_count": 9
        }
      ],
      "source": [
        "y_trainc[10000]"
      ]
    },
    {
      "cell_type": "code",
      "execution_count": 19,
      "metadata": {
        "colab": {
          "base_uri": "https://localhost:8080/",
          "height": 144
        },
        "id": "LQM0llJVQoPE",
        "outputId": "deb23d8b-e1dc-4b15-dac8-58ade5c6f246"
      },
      "outputs": [
        {
          "output_type": "error",
          "ename": "SyntaxError",
          "evalue": "ignored",
          "traceback": [
            "\u001b[0;36m  File \u001b[0;32m\"<ipython-input-19-958c3cd6b218>\"\u001b[0;36m, line \u001b[0;32m5\u001b[0m\n\u001b[0;31m    model.add(Dense(30,activation='sigmoid',kernel_regularizer=regularizers.l2(0.02))\u001b[0m\n\u001b[0m             ^\u001b[0m\n\u001b[0;31mSyntaxError\u001b[0m\u001b[0;31m:\u001b[0m '(' was never closed\n"
          ]
        }
      ],
      "source": [
        "# @title Default title text\n",
        "model = Sequential()\n",
        "model.add(Dense(784, activation='sigmoid', input_shape=(784,)))\n",
        "model.add(Dense(30, activation='sigmoid'))\n",
        "model.add(Dense(30,activation='sigmoid',kernel_regularizer=regularizers.l2(0.02))\n",
        "model.add(Dense(30,activation='sigmoid',kernel_regularizer=regularizers.l2(0.02)))\n",
        "model.add(Dense(num_classes, activation='sigmoid'))\n",
        "\n",
        "model.summary()"
      ]
    },
    {
      "cell_type": "code",
      "execution_count": 20,
      "metadata": {
        "id": "C3T7yFuBwmul"
      },
      "outputs": [],
      "source": [
        "model.compile(loss='categorical_crossentropy',optimizer=SGD(learning_rate=learning_rate),metrics=['accuracy'])"
      ]
    },
    {
      "cell_type": "code",
      "execution_count": 21,
      "metadata": {
        "colab": {
          "base_uri": "https://localhost:8080/"
        },
        "id": "oPN5h_rNws62",
        "outputId": "6fe94218-d97c-405d-baf5-ccff786dbe30"
      },
      "outputs": [
        {
          "output_type": "stream",
          "name": "stdout",
          "text": [
            "Epoch 1/30\n",
            "600/600 [==============================] - 7s 11ms/step - loss: 2.3052 - accuracy: 0.1065 - val_loss: 2.3034 - val_accuracy: 0.1135\n",
            "Epoch 2/30\n",
            "600/600 [==============================] - 5s 8ms/step - loss: 2.3056 - accuracy: 0.1054 - val_loss: 2.3049 - val_accuracy: 0.1010\n",
            "Epoch 3/30\n",
            "600/600 [==============================] - 6s 10ms/step - loss: 2.3054 - accuracy: 0.1047 - val_loss: 2.3045 - val_accuracy: 0.1032\n",
            "Epoch 4/30\n",
            "600/600 [==============================] - 5s 9ms/step - loss: 2.3056 - accuracy: 0.1048 - val_loss: 2.3050 - val_accuracy: 0.0980\n",
            "Epoch 5/30\n",
            "600/600 [==============================] - 6s 10ms/step - loss: 2.3053 - accuracy: 0.1061 - val_loss: 2.3027 - val_accuracy: 0.1028\n",
            "Epoch 6/30\n",
            "600/600 [==============================] - 5s 9ms/step - loss: 2.3051 - accuracy: 0.1063 - val_loss: 2.3035 - val_accuracy: 0.1135\n",
            "Epoch 7/30\n",
            "600/600 [==============================] - 6s 9ms/step - loss: 2.3050 - accuracy: 0.1067 - val_loss: 2.3096 - val_accuracy: 0.1010\n",
            "Epoch 8/30\n",
            "600/600 [==============================] - 6s 9ms/step - loss: 2.3055 - accuracy: 0.1060 - val_loss: 2.3039 - val_accuracy: 0.0974\n",
            "Epoch 9/30\n",
            "600/600 [==============================] - 5s 9ms/step - loss: 2.3053 - accuracy: 0.1057 - val_loss: 2.3091 - val_accuracy: 0.0982\n",
            "Epoch 10/30\n",
            "600/600 [==============================] - 6s 10ms/step - loss: 2.3054 - accuracy: 0.1057 - val_loss: 2.3044 - val_accuracy: 0.1032\n",
            "Epoch 11/30\n",
            "600/600 [==============================] - 5s 8ms/step - loss: 2.3051 - accuracy: 0.1054 - val_loss: 2.3047 - val_accuracy: 0.1032\n",
            "Epoch 12/30\n",
            "600/600 [==============================] - 6s 10ms/step - loss: 2.3054 - accuracy: 0.1061 - val_loss: 2.3036 - val_accuracy: 0.1135\n",
            "Epoch 13/30\n",
            "600/600 [==============================] - 5s 9ms/step - loss: 2.3052 - accuracy: 0.1058 - val_loss: 2.3034 - val_accuracy: 0.0958\n",
            "Epoch 14/30\n",
            "600/600 [==============================] - 5s 9ms/step - loss: 2.3051 - accuracy: 0.1052 - val_loss: 2.3037 - val_accuracy: 0.1135\n",
            "Epoch 15/30\n",
            "600/600 [==============================] - 6s 10ms/step - loss: 2.3054 - accuracy: 0.1055 - val_loss: 2.3080 - val_accuracy: 0.1028\n",
            "Epoch 16/30\n",
            "600/600 [==============================] - 5s 9ms/step - loss: 2.3054 - accuracy: 0.1058 - val_loss: 2.3050 - val_accuracy: 0.1028\n",
            "Epoch 17/30\n",
            "600/600 [==============================] - 6s 10ms/step - loss: 2.3054 - accuracy: 0.1051 - val_loss: 2.3036 - val_accuracy: 0.1135\n",
            "Epoch 18/30\n",
            "600/600 [==============================] - 5s 9ms/step - loss: 2.3049 - accuracy: 0.1054 - val_loss: 2.3119 - val_accuracy: 0.1032\n",
            "Epoch 19/30\n",
            "600/600 [==============================] - 6s 10ms/step - loss: 2.3053 - accuracy: 0.1037 - val_loss: 2.3044 - val_accuracy: 0.0958\n",
            "Epoch 20/30\n",
            "600/600 [==============================] - 5s 9ms/step - loss: 2.3050 - accuracy: 0.1059 - val_loss: 2.3098 - val_accuracy: 0.1028\n",
            "Epoch 21/30\n",
            "600/600 [==============================] - 6s 9ms/step - loss: 2.3054 - accuracy: 0.1068 - val_loss: 2.3037 - val_accuracy: 0.1028\n",
            "Epoch 22/30\n",
            "600/600 [==============================] - 6s 10ms/step - loss: 2.3054 - accuracy: 0.1047 - val_loss: 2.3029 - val_accuracy: 0.1028\n",
            "Epoch 23/30\n",
            "600/600 [==============================] - 5s 9ms/step - loss: 2.3049 - accuracy: 0.1057 - val_loss: 2.3068 - val_accuracy: 0.0958\n",
            "Epoch 24/30\n",
            "600/600 [==============================] - 6s 10ms/step - loss: 2.3051 - accuracy: 0.1048 - val_loss: 2.3022 - val_accuracy: 0.1135\n",
            "Epoch 25/30\n",
            "600/600 [==============================] - 5s 8ms/step - loss: 2.3050 - accuracy: 0.1076 - val_loss: 2.3041 - val_accuracy: 0.1009\n",
            "Epoch 26/30\n",
            "600/600 [==============================] - 6s 11ms/step - loss: 2.3050 - accuracy: 0.1053 - val_loss: 2.3045 - val_accuracy: 0.1135\n",
            "Epoch 27/30\n",
            "600/600 [==============================] - 5s 9ms/step - loss: 2.3047 - accuracy: 0.1063 - val_loss: 2.3050 - val_accuracy: 0.1032\n",
            "Epoch 28/30\n",
            "600/600 [==============================] - 6s 10ms/step - loss: 2.3053 - accuracy: 0.1045 - val_loss: 2.3038 - val_accuracy: 0.1135\n",
            "Epoch 29/30\n",
            "600/600 [==============================] - 5s 9ms/step - loss: 2.3054 - accuracy: 0.1039 - val_loss: 2.3046 - val_accuracy: 0.1135\n",
            "Epoch 30/30\n",
            "600/600 [==============================] - 5s 9ms/step - loss: 2.3049 - accuracy: 0.1048 - val_loss: 2.3060 - val_accuracy: 0.1028\n"
          ]
        }
      ],
      "source": [
        "history = model.fit(x_trainv, y_trainc,\n",
        "                    batch_size=batch_size,\n",
        "                    epochs=epochs,\n",
        "                    verbose=1,\n",
        "                    validation_data=(x_testv, y_testc)\n",
        "                    )"
      ]
    },
    {
      "cell_type": "code",
      "execution_count": 13,
      "metadata": {
        "id": "ujTZ-zbJwwhB",
        "colab": {
          "base_uri": "https://localhost:8080/"
        },
        "outputId": "7800bfac-97c5-455f-d499-3c0bfb6dfd76"
      },
      "outputs": [
        {
          "output_type": "stream",
          "name": "stdout",
          "text": [
            "313/313 [==============================] - 1s 3ms/step - loss: 2.3085 - accuracy: 0.1135\n",
            "[2.308501720428467, 0.11349999904632568]\n",
            "313/313 [==============================] - 1s 2ms/step\n",
            "(10000, 10)\n",
            "[0.5433169  0.5452322  0.5205743  0.49615762 0.5331696  0.46670255\n",
            " 0.4353304  0.48714447 0.5127541  0.45843378]\n",
            "resultado correcto:\n",
            "[0. 0. 1. 0. 0. 0. 0. 0. 0. 0.]\n"
          ]
        }
      ],
      "source": [
        "score = model.evaluate(x_testv, y_testc, verbose=1) #evaluar la eficiencia del modelo\n",
        "print(score)\n",
        "a=model.predict(x_testv) #predicción de la red entrenada\n",
        "print(a.shape)\n",
        "print(a[1])\n",
        "print(\"resultado correcto:\")\n",
        "print(y_testc[1])"
      ]
    }
  ],
  "metadata": {
    "colab": {
      "provenance": [],
      "authorship_tag": "ABX9TyPYsl8JP0tKFqUHtbYgHlNP"
    },
    "kernelspec": {
      "display_name": "Python 3",
      "name": "python3"
    },
    "language_info": {
      "name": "python"
    }
  },
  "nbformat": 4,
  "nbformat_minor": 0
}