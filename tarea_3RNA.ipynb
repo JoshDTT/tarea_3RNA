{
  "cells": [
    {
      "cell_type": "code",
      "execution_count": 39,
      "metadata": {
        "id": "ZL2vRO2sOeLB"
      },
      "outputs": [],
      "source": [
        "import tensorflow as tf\n",
        "from tensorflow import keras\n",
        "from tensorflow.keras.datasets import mnist\n",
        "from tensorflow.keras.models import Sequential\n",
        "from tensorflow.keras.layers import Dense, Dropout, Activation\n",
        "from tensorflow.keras.optimizers import RMSprop, SGD, Adam\n",
        "from tensorflow.keras import regularizers\n",
        "from keras.regularizers import l1, l2\n",
        "import numpy as np\n"
      ]
    },
    {
      "cell_type": "code",
      "execution_count": 40,
      "metadata": {
        "id": "HlWcQo1vPUZO"
      },
      "outputs": [],
      "source": [
        "learning_rate = 1.5\n",
        "epochs = 30\n",
        "batch_size = 100"
      ]
    },
    {
      "cell_type": "code",
      "execution_count": 41,
      "metadata": {
        "id": "9HVV0QY-PVLl"
      },
      "outputs": [],
      "source": [
        "dataset=mnist.load_data()"
      ]
    },
    {
      "cell_type": "code",
      "execution_count": 42,
      "metadata": {
        "colab": {
          "base_uri": "https://localhost:8080/"
        },
        "id": "f_bw2KFmPcNk",
        "outputId": "8c41dc50-884f-4dc7-be7e-a280ea6b2870"
      },
      "outputs": [
        {
          "output_type": "stream",
          "name": "stdout",
          "text": [
            "(10000,)\n"
          ]
        },
        {
          "output_type": "stream",
          "name": "stderr",
          "text": [
            "<ipython-input-42-d86b9ee74159>:1: VisibleDeprecationWarning: Creating an ndarray from ragged nested sequences (which is a list-or-tuple of lists-or-tuples-or ndarrays with different lengths or shapes) is deprecated. If you meant to do this, you must specify 'dtype=object' when creating the ndarray.\n",
            "  dat=np.array(dataset)\n"
          ]
        }
      ],
      "source": [
        "dat=np.array(dataset)\n",
        "print(dat[1,1].shape)\n",
        "(x_train, y_train), (x_test, y_test) = dataset"
      ]
    },
    {
      "cell_type": "code",
      "execution_count": 43,
      "metadata": {
        "colab": {
          "base_uri": "https://localhost:8080/"
        },
        "id": "V_CvPTv-QEOI",
        "outputId": "c61e6fff-812d-4dd1-9547-76c991a28353"
      },
      "outputs": [
        {
          "output_type": "execute_result",
          "data": {
            "text/plain": [
              "(60000, 28, 28)"
            ]
          },
          "metadata": {},
          "execution_count": 43
        }
      ],
      "source": [
        "x_train.shape"
      ]
    },
    {
      "cell_type": "code",
      "execution_count": 44,
      "metadata": {
        "id": "EKxZZ7KLQH48"
      },
      "outputs": [],
      "source": [
        "x_trainv = x_train.reshape(60000, 784)\n",
        "x_testv = x_test.reshape(10000, 784)\n",
        "x_trainv = x_trainv.astype('float32')\n",
        "x_testv = x_testv.astype('float32')\n",
        "\n",
        "x_trainv /= 255  # x_trainv = x_trainv/255\n",
        "x_testv /= 255"
      ]
    },
    {
      "cell_type": "code",
      "execution_count": 45,
      "metadata": {
        "colab": {
          "base_uri": "https://localhost:8080/"
        },
        "id": "_XIUQkcJQP_X",
        "outputId": "f473d911-e5cb-4d51-c258-e209225cdbdf"
      },
      "outputs": [
        {
          "output_type": "stream",
          "name": "stdout",
          "text": [
            "3\n"
          ]
        }
      ],
      "source": [
        "print(y_train[10000])"
      ]
    },
    {
      "cell_type": "code",
      "execution_count": 46,
      "metadata": {
        "id": "L-Tyn14lQd5N"
      },
      "outputs": [],
      "source": [
        "num_classes=10\n",
        "y_trainc = keras.utils.to_categorical(y_train, num_classes)\n",
        "y_testc = keras.utils.to_categorical(y_test, num_classes)"
      ]
    },
    {
      "cell_type": "code",
      "execution_count": 47,
      "metadata": {
        "colab": {
          "base_uri": "https://localhost:8080/"
        },
        "id": "bkUVEfR5Qg7N",
        "outputId": "bddac918-80cd-43f0-ca3d-e5ee1e62f6c2"
      },
      "outputs": [
        {
          "output_type": "execute_result",
          "data": {
            "text/plain": [
              "array([0., 0., 0., 1., 0., 0., 0., 0., 0., 0.], dtype=float32)"
            ]
          },
          "metadata": {},
          "execution_count": 47
        }
      ],
      "source": [
        "y_trainc[10000]"
      ]
    },
    {
      "cell_type": "code",
      "execution_count": 48,
      "metadata": {
        "colab": {
          "base_uri": "https://localhost:8080/"
        },
        "id": "LQM0llJVQoPE",
        "outputId": "7d4c1c88-b3ce-4916-e378-200ce79ef4ec"
      },
      "outputs": [
        {
          "output_type": "stream",
          "name": "stdout",
          "text": [
            "Model: \"sequential_6\"\n",
            "_________________________________________________________________\n",
            " Layer (type)                Output Shape              Param #   \n",
            "=================================================================\n",
            " dense_30 (Dense)            (None, 784)               615440    \n",
            "                                                                 \n",
            " dense_31 (Dense)            (None, 30)                23550     \n",
            "                                                                 \n",
            " dense_32 (Dense)            (None, 30)                930       \n",
            "                                                                 \n",
            " dropout_7 (Dropout)         (None, 30)                0         \n",
            "                                                                 \n",
            " dense_33 (Dense)            (None, 30)                930       \n",
            "                                                                 \n",
            " dense_34 (Dense)            (None, 10)                310       \n",
            "                                                                 \n",
            "=================================================================\n",
            "Total params: 641160 (2.45 MB)\n",
            "Trainable params: 641160 (2.45 MB)\n",
            "Non-trainable params: 0 (0.00 Byte)\n",
            "_________________________________________________________________\n"
          ]
        }
      ],
      "source": [
        "# @title Default title text\n",
        "model = Sequential()\n",
        "model.add(Dense(784, activation='sigmoid', input_shape=(784,)))\n",
        "model.add(Dense(30, activation='sigmoid'))\n",
        "model.add(Dense(30,activation='sigmoid',kernel_regularizer=regularizers.l1(0.03)))\n",
        "model.add(Dropout(0.2))\n",
        "model.add(Dense(30,activation='sigmoid',kernel_regularizer=regularizers.l2(0.03)))\n",
        "model.add(Dense(num_classes, activation='sigmoid'))\n",
        "\n",
        "model.summary()"
      ]
    },
    {
      "cell_type": "code",
      "execution_count": 55,
      "metadata": {
        "id": "C3T7yFuBwmul"
      },
      "outputs": [],
      "source": [
        "model.compile(loss='categorical_crossentropy',optimizer=SGD(learning_rate=learning_rate),metrics=['accuracy'])"
      ]
    },
    {
      "cell_type": "code",
      "execution_count": 56,
      "metadata": {
        "colab": {
          "base_uri": "https://localhost:8080/"
        },
        "id": "oPN5h_rNws62",
        "outputId": "c8800e21-aff8-46d2-e48f-46261e45ae47"
      },
      "outputs": [
        {
          "output_type": "stream",
          "name": "stdout",
          "text": [
            "Epoch 1/30\n",
            "600/600 [==============================] - 10s 16ms/step - loss: 2.9123 - accuracy: 0.1057 - val_loss: 2.8423 - val_accuracy: 0.1135\n",
            "Epoch 2/30\n",
            "600/600 [==============================] - 8s 13ms/step - loss: 2.9122 - accuracy: 0.1055 - val_loss: 2.8421 - val_accuracy: 0.1028\n",
            "Epoch 3/30\n",
            "600/600 [==============================] - 9s 15ms/step - loss: 2.9124 - accuracy: 0.1056 - val_loss: 2.8453 - val_accuracy: 0.0980\n",
            "Epoch 4/30\n",
            "600/600 [==============================] - 9s 15ms/step - loss: 2.9124 - accuracy: 0.1060 - val_loss: 2.8431 - val_accuracy: 0.1135\n",
            "Epoch 5/30\n",
            "600/600 [==============================] - 8s 13ms/step - loss: 2.9125 - accuracy: 0.1050 - val_loss: 2.8454 - val_accuracy: 0.1028\n",
            "Epoch 6/30\n",
            "600/600 [==============================] - 10s 16ms/step - loss: 2.9123 - accuracy: 0.1064 - val_loss: 2.8415 - val_accuracy: 0.1032\n",
            "Epoch 7/30\n",
            "600/600 [==============================] - 9s 15ms/step - loss: 2.9122 - accuracy: 0.1047 - val_loss: 2.8404 - val_accuracy: 0.1135\n",
            "Epoch 8/30\n",
            "600/600 [==============================] - 8s 13ms/step - loss: 2.9123 - accuracy: 0.1066 - val_loss: 2.8423 - val_accuracy: 0.1135\n",
            "Epoch 9/30\n",
            "600/600 [==============================] - 9s 15ms/step - loss: 2.9122 - accuracy: 0.1076 - val_loss: 2.8444 - val_accuracy: 0.1135\n",
            "Epoch 10/30\n",
            "600/600 [==============================] - 10s 17ms/step - loss: 2.9125 - accuracy: 0.1055 - val_loss: 2.8433 - val_accuracy: 0.1135\n",
            "Epoch 11/30\n",
            "600/600 [==============================] - 8s 13ms/step - loss: 2.9121 - accuracy: 0.1066 - val_loss: 2.8440 - val_accuracy: 0.1028\n",
            "Epoch 12/30\n",
            "600/600 [==============================] - 9s 15ms/step - loss: 2.9123 - accuracy: 0.1049 - val_loss: 2.8465 - val_accuracy: 0.1010\n",
            "Epoch 13/30\n",
            "600/600 [==============================] - 9s 14ms/step - loss: 2.9124 - accuracy: 0.1042 - val_loss: 2.8430 - val_accuracy: 0.1009\n",
            "Epoch 14/30\n",
            "600/600 [==============================] - 8s 14ms/step - loss: 2.9126 - accuracy: 0.1052 - val_loss: 2.8448 - val_accuracy: 0.0980\n",
            "Epoch 15/30\n",
            "600/600 [==============================] - 9s 15ms/step - loss: 2.9121 - accuracy: 0.1079 - val_loss: 2.8447 - val_accuracy: 0.1028\n",
            "Epoch 16/30\n",
            "600/600 [==============================] - 8s 14ms/step - loss: 2.9126 - accuracy: 0.1070 - val_loss: 2.8443 - val_accuracy: 0.0980\n",
            "Epoch 17/30\n",
            "600/600 [==============================] - 8s 14ms/step - loss: 2.9125 - accuracy: 0.1057 - val_loss: 2.8459 - val_accuracy: 0.1028\n",
            "Epoch 18/30\n",
            "600/600 [==============================] - 9s 16ms/step - loss: 2.9126 - accuracy: 0.1052 - val_loss: 2.8419 - val_accuracy: 0.1135\n",
            "Epoch 19/30\n",
            "600/600 [==============================] - 9s 14ms/step - loss: 2.9123 - accuracy: 0.1064 - val_loss: 2.8451 - val_accuracy: 0.0980\n",
            "Epoch 20/30\n",
            "600/600 [==============================] - 9s 14ms/step - loss: 2.9122 - accuracy: 0.1074 - val_loss: 2.8409 - val_accuracy: 0.1135\n",
            "Epoch 21/30\n",
            "600/600 [==============================] - 9s 15ms/step - loss: 2.9124 - accuracy: 0.1040 - val_loss: 2.8436 - val_accuracy: 0.1135\n",
            "Epoch 22/30\n",
            "600/600 [==============================] - 9s 14ms/step - loss: 2.9124 - accuracy: 0.1040 - val_loss: 2.8419 - val_accuracy: 0.1009\n",
            "Epoch 23/30\n",
            "600/600 [==============================] - 9s 15ms/step - loss: 2.9127 - accuracy: 0.1077 - val_loss: 2.8408 - val_accuracy: 0.1135\n",
            "Epoch 24/30\n",
            "600/600 [==============================] - 10s 16ms/step - loss: 2.9124 - accuracy: 0.1062 - val_loss: 2.8415 - val_accuracy: 0.1135\n",
            "Epoch 25/30\n",
            "600/600 [==============================] - 9s 15ms/step - loss: 2.9123 - accuracy: 0.1055 - val_loss: 2.8463 - val_accuracy: 0.0958\n",
            "Epoch 26/30\n",
            "600/600 [==============================] - 8s 14ms/step - loss: 2.9125 - accuracy: 0.1066 - val_loss: 2.8411 - val_accuracy: 0.1135\n",
            "Epoch 27/30\n",
            "600/600 [==============================] - 9s 15ms/step - loss: 2.9122 - accuracy: 0.1053 - val_loss: 2.8430 - val_accuracy: 0.1010\n",
            "Epoch 28/30\n",
            "600/600 [==============================] - 8s 14ms/step - loss: 2.9118 - accuracy: 0.1069 - val_loss: 2.8439 - val_accuracy: 0.1135\n",
            "Epoch 29/30\n",
            "600/600 [==============================] - 9s 14ms/step - loss: 2.9123 - accuracy: 0.1057 - val_loss: 2.8442 - val_accuracy: 0.1028\n",
            "Epoch 30/30\n",
            "600/600 [==============================] - 9s 15ms/step - loss: 2.9122 - accuracy: 0.1068 - val_loss: 2.8420 - val_accuracy: 0.1009\n"
          ]
        }
      ],
      "source": [
        "history = model.fit(x_trainv, y_trainc,\n",
        "                    batch_size=batch_size,\n",
        "                    epochs=epochs,\n",
        "                    verbose=1,\n",
        "                    validation_data=(x_testv, y_testc)\n",
        "                    )"
      ]
    },
    {
      "cell_type": "code",
      "execution_count": null,
      "metadata": {
        "id": "ujTZ-zbJwwhB"
      },
      "outputs": [],
      "source": [
        "score = model.evaluate(x_testv, y_testc, verbose=1) #evaluar la eficiencia del modelo\n",
        "print(score)\n",
        "a=model.predict(x_testv) #predicción de la red entrenada\n",
        "print(a.shape)\n",
        "print(a[1])\n",
        "print(\"resultado correcto:\")\n",
        "print(y_testc[1])"
      ]
    }
  ],
  "metadata": {
    "colab": {
      "provenance": [],
      "authorship_tag": "ABX9TyMxS43lDA4uzAxsCI/nIBX5"
    },
    "kernelspec": {
      "display_name": "Python 3",
      "name": "python3"
    },
    "language_info": {
      "name": "python"
    }
  },
  "nbformat": 4,
  "nbformat_minor": 0
}