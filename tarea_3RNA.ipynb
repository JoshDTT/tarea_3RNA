{
  "nbformat": 4,
  "nbformat_minor": 0,
  "metadata": {
    "colab": {
      "provenance": [],
      "authorship_tag": "ABX9TyPurvW3XRpi6us9XEa0wtPW"
    },
    "kernelspec": {
      "name": "python3",
      "display_name": "Python 3"
    },
    "language_info": {
      "name": "python"
    }
  },
  "cells": [
    {
      "cell_type": "code",
      "execution_count": 4,
      "metadata": {
        "id": "ZL2vRO2sOeLB"
      },
      "outputs": [],
      "source": [
        "import tensorflow as tf\n",
        "from tensorflow import keras\n",
        "from tensorflow.keras.datasets import mnist\n",
        "from tensorflow.keras.models import Sequential\n",
        "from tensorflow.keras.layers import Dense, Dropout, Activation\n",
        "from tensorflow.keras.optimizers import RMSprop, SGD\n",
        "from tensorflow.keras import regularizers\n",
        "import numpy as np\n"
      ]
    },
    {
      "cell_type": "code",
      "source": [
        "learning_rate = 3\n",
        "epochs = 30\n",
        "batch_size = 30"
      ],
      "metadata": {
        "id": "HlWcQo1vPUZO"
      },
      "execution_count": 5,
      "outputs": []
    },
    {
      "cell_type": "code",
      "source": [
        "dataset=mnist.load_data()"
      ],
      "metadata": {
        "id": "9HVV0QY-PVLl",
        "colab": {
          "base_uri": "https://localhost:8080/"
        },
        "outputId": "14667613-4705-4880-9ecd-b9b7c2501fbb"
      },
      "execution_count": 6,
      "outputs": [
        {
          "output_type": "stream",
          "name": "stdout",
          "text": [
            "Downloading data from https://storage.googleapis.com/tensorflow/tf-keras-datasets/mnist.npz\n",
            "11490434/11490434 [==============================] - 0s 0us/step\n"
          ]
        }
      ]
    },
    {
      "cell_type": "code",
      "source": [
        "dat=np.array(dataset)\n",
        "print(dat[1,1].shape)\n",
        "(x_train, y_train), (x_test, y_test) = dataset"
      ],
      "metadata": {
        "colab": {
          "base_uri": "https://localhost:8080/"
        },
        "id": "f_bw2KFmPcNk",
        "outputId": "f1605280-44cf-4358-ffd7-4d46aeaa483a"
      },
      "execution_count": 7,
      "outputs": [
        {
          "output_type": "stream",
          "name": "stdout",
          "text": [
            "(10000,)\n"
          ]
        },
        {
          "output_type": "stream",
          "name": "stderr",
          "text": [
            "<ipython-input-7-d86b9ee74159>:1: VisibleDeprecationWarning: Creating an ndarray from ragged nested sequences (which is a list-or-tuple of lists-or-tuples-or ndarrays with different lengths or shapes) is deprecated. If you meant to do this, you must specify 'dtype=object' when creating the ndarray.\n",
            "  dat=np.array(dataset)\n"
          ]
        }
      ]
    },
    {
      "cell_type": "code",
      "source": [
        "x_train.shape"
      ],
      "metadata": {
        "colab": {
          "base_uri": "https://localhost:8080/"
        },
        "id": "V_CvPTv-QEOI",
        "outputId": "258f8a34-5cab-4907-caba-cdf9ee785da7"
      },
      "execution_count": 8,
      "outputs": [
        {
          "output_type": "execute_result",
          "data": {
            "text/plain": [
              "(60000, 28, 28)"
            ]
          },
          "metadata": {},
          "execution_count": 8
        }
      ]
    },
    {
      "cell_type": "code",
      "source": [
        "x_trainv = x_train.reshape(60000, 784)\n",
        "x_testv = x_test.reshape(10000, 784)\n",
        "x_trainv = x_trainv.astype('float32')\n",
        "x_testv = x_testv.astype('float32')\n",
        "\n",
        "x_trainv /= 255  # x_trainv = x_trainv/255\n",
        "x_testv /= 255"
      ],
      "metadata": {
        "id": "EKxZZ7KLQH48"
      },
      "execution_count": 9,
      "outputs": []
    },
    {
      "cell_type": "code",
      "source": [
        "print(y_train[10000])"
      ],
      "metadata": {
        "colab": {
          "base_uri": "https://localhost:8080/"
        },
        "id": "_XIUQkcJQP_X",
        "outputId": "90cecfbf-0a91-48da-8069-db9fbda18604"
      },
      "execution_count": 10,
      "outputs": [
        {
          "output_type": "stream",
          "name": "stdout",
          "text": [
            "3\n"
          ]
        }
      ]
    },
    {
      "cell_type": "code",
      "source": [
        "num_classes=10\n",
        "y_trainc = keras.utils.to_categorical(y_train, num_classes)\n",
        "y_testc = keras.utils.to_categorical(y_test, num_classes)"
      ],
      "metadata": {
        "id": "L-Tyn14lQd5N"
      },
      "execution_count": 11,
      "outputs": []
    },
    {
      "cell_type": "code",
      "source": [
        "y_trainc[10000]"
      ],
      "metadata": {
        "colab": {
          "base_uri": "https://localhost:8080/"
        },
        "id": "bkUVEfR5Qg7N",
        "outputId": "c4769054-dd0f-4179-d917-547847f6c4e0"
      },
      "execution_count": 12,
      "outputs": [
        {
          "output_type": "execute_result",
          "data": {
            "text/plain": [
              "array([0., 0., 0., 1., 0., 0., 0., 0., 0., 0.], dtype=float32)"
            ]
          },
          "metadata": {},
          "execution_count": 12
        }
      ]
    },
    {
      "cell_type": "code",
      "source": [
        "# @title Default title text\n",
        "model = Sequential()\n",
        "model.add(Dense(784, activation='sigmoid', input_shape=(784,)))\n",
        "model.add(Dense(30, activation='sigmoid'))\n",
        "model.add(Dense(num_classes, activation='sigmoid'))\n",
        "\n",
        "model.summary()"
      ],
      "metadata": {
        "colab": {
          "base_uri": "https://localhost:8080/"
        },
        "id": "LQM0llJVQoPE",
        "outputId": "f153a19b-2092-4026-b9cf-7b7222c6fd85"
      },
      "execution_count": 15,
      "outputs": [
        {
          "output_type": "stream",
          "name": "stdout",
          "text": [
            "Model: \"sequential_2\"\n",
            "_________________________________________________________________\n",
            " Layer (type)                Output Shape              Param #   \n",
            "=================================================================\n",
            " dense_3 (Dense)             (None, 784)               615440    \n",
            "                                                                 \n",
            " dense_4 (Dense)             (None, 30)                23550     \n",
            "                                                                 \n",
            " dense_5 (Dense)             (None, 10)                310       \n",
            "                                                                 \n",
            "=================================================================\n",
            "Total params: 639300 (2.44 MB)\n",
            "Trainable params: 639300 (2.44 MB)\n",
            "Non-trainable params: 0 (0.00 Byte)\n",
            "_________________________________________________________________\n"
          ]
        }
      ]
    },
    {
      "cell_type": "code",
      "source": [
        "model.compile(loss='categorical_crossentropy',optimizer=SGD(learning_rate=learning_rate),metrics=['accuracy'])"
      ],
      "metadata": {
        "id": "C3T7yFuBwmul"
      },
      "execution_count": 23,
      "outputs": []
    },
    {
      "cell_type": "code",
      "source": [
        "history = model.fit(x_trainv, y_trainc,\n",
        "                    batch_size=batch_size,\n",
        "                    epochs=epochs,\n",
        "                    verbose=1,\n",
        "                    validation_data=(x_testv, y_testc)\n",
        "                    )"
      ],
      "metadata": {
        "colab": {
          "base_uri": "https://localhost:8080/"
        },
        "id": "oPN5h_rNws62",
        "outputId": "71b85fc8-b1e9-4859-a8b9-3932263cce0f"
      },
      "execution_count": 24,
      "outputs": [
        {
          "output_type": "stream",
          "name": "stdout",
          "text": [
            "Epoch 1/30\n",
            "2000/2000 [==============================] - 14s 7ms/step - loss: 0.1984 - accuracy: 0.9409 - val_loss: 0.1396 - val_accuracy: 0.9585\n",
            "Epoch 2/30\n",
            "2000/2000 [==============================] - 13s 6ms/step - loss: 0.1102 - accuracy: 0.9668 - val_loss: 0.1298 - val_accuracy: 0.9620\n",
            "Epoch 3/30\n",
            "2000/2000 [==============================] - 13s 7ms/step - loss: 0.0823 - accuracy: 0.9741 - val_loss: 0.1167 - val_accuracy: 0.9653\n",
            "Epoch 4/30\n",
            "2000/2000 [==============================] - 13s 6ms/step - loss: 0.0656 - accuracy: 0.9795 - val_loss: 0.1050 - val_accuracy: 0.9709\n",
            "Epoch 5/30\n",
            "2000/2000 [==============================] - 13s 7ms/step - loss: 0.0507 - accuracy: 0.9844 - val_loss: 0.0972 - val_accuracy: 0.9708\n",
            "Epoch 6/30\n",
            "2000/2000 [==============================] - 13s 7ms/step - loss: 0.0384 - accuracy: 0.9879 - val_loss: 0.0868 - val_accuracy: 0.9766\n",
            "Epoch 7/30\n",
            "2000/2000 [==============================] - 13s 6ms/step - loss: 0.0319 - accuracy: 0.9898 - val_loss: 0.0954 - val_accuracy: 0.9754\n",
            "Epoch 8/30\n",
            "2000/2000 [==============================] - 13s 7ms/step - loss: 0.0306 - accuracy: 0.9903 - val_loss: 0.0931 - val_accuracy: 0.9732\n",
            "Epoch 9/30\n",
            "2000/2000 [==============================] - 13s 6ms/step - loss: 0.0251 - accuracy: 0.9914 - val_loss: 0.0915 - val_accuracy: 0.9769\n",
            "Epoch 10/30\n",
            "2000/2000 [==============================] - 13s 7ms/step - loss: 0.0233 - accuracy: 0.9929 - val_loss: 0.0920 - val_accuracy: 0.9777\n",
            "Epoch 11/30\n",
            "2000/2000 [==============================] - 13s 7ms/step - loss: 0.0198 - accuracy: 0.9935 - val_loss: 0.0860 - val_accuracy: 0.9800\n",
            "Epoch 12/30\n",
            "2000/2000 [==============================] - 13s 7ms/step - loss: 0.0139 - accuracy: 0.9957 - val_loss: 0.0837 - val_accuracy: 0.9802\n",
            "Epoch 13/30\n",
            "2000/2000 [==============================] - 13s 7ms/step - loss: 0.0105 - accuracy: 0.9968 - val_loss: 0.0813 - val_accuracy: 0.9813\n",
            "Epoch 14/30\n",
            "2000/2000 [==============================] - 13s 7ms/step - loss: 0.0127 - accuracy: 0.9961 - val_loss: 0.0939 - val_accuracy: 0.9784\n",
            "Epoch 15/30\n",
            "2000/2000 [==============================] - 13s 7ms/step - loss: 0.0149 - accuracy: 0.9954 - val_loss: 0.1005 - val_accuracy: 0.9773\n",
            "Epoch 16/30\n",
            "2000/2000 [==============================] - 13s 7ms/step - loss: 0.0164 - accuracy: 0.9944 - val_loss: 0.0924 - val_accuracy: 0.9801\n",
            "Epoch 17/30\n",
            "2000/2000 [==============================] - 13s 7ms/step - loss: 0.0124 - accuracy: 0.9958 - val_loss: 0.1064 - val_accuracy: 0.9774\n",
            "Epoch 18/30\n",
            "2000/2000 [==============================] - 13s 7ms/step - loss: 0.0044 - accuracy: 0.9990 - val_loss: 0.0905 - val_accuracy: 0.9813\n",
            "Epoch 19/30\n",
            "2000/2000 [==============================] - 13s 7ms/step - loss: 0.0020 - accuracy: 0.9996 - val_loss: 0.0830 - val_accuracy: 0.9821\n",
            "Epoch 20/30\n",
            "2000/2000 [==============================] - 13s 7ms/step - loss: 0.0016 - accuracy: 0.9997 - val_loss: 0.0909 - val_accuracy: 0.9813\n",
            "Epoch 21/30\n",
            "2000/2000 [==============================] - 13s 7ms/step - loss: 0.0014 - accuracy: 0.9998 - val_loss: 0.0877 - val_accuracy: 0.9818\n",
            "Epoch 22/30\n",
            "2000/2000 [==============================] - 14s 7ms/step - loss: 7.5680e-04 - accuracy: 0.9999 - val_loss: 0.0875 - val_accuracy: 0.9826\n",
            "Epoch 23/30\n",
            "2000/2000 [==============================] - 14s 7ms/step - loss: 5.4267e-04 - accuracy: 0.9999 - val_loss: 0.0875 - val_accuracy: 0.9822\n",
            "Epoch 24/30\n",
            "2000/2000 [==============================] - 13s 7ms/step - loss: 4.4766e-04 - accuracy: 0.9999 - val_loss: 0.0894 - val_accuracy: 0.9824\n",
            "Epoch 25/30\n",
            "2000/2000 [==============================] - 14s 7ms/step - loss: 4.0548e-04 - accuracy: 1.0000 - val_loss: 0.0884 - val_accuracy: 0.9825\n",
            "Epoch 26/30\n",
            "2000/2000 [==============================] - 13s 7ms/step - loss: 3.6865e-04 - accuracy: 1.0000 - val_loss: 0.0883 - val_accuracy: 0.9828\n",
            "Epoch 27/30\n",
            "2000/2000 [==============================] - 13s 7ms/step - loss: 3.4218e-04 - accuracy: 1.0000 - val_loss: 0.0882 - val_accuracy: 0.9824\n",
            "Epoch 28/30\n",
            "2000/2000 [==============================] - 13s 7ms/step - loss: 3.1917e-04 - accuracy: 1.0000 - val_loss: 0.0888 - val_accuracy: 0.9824\n",
            "Epoch 29/30\n",
            "2000/2000 [==============================] - 14s 7ms/step - loss: 2.9934e-04 - accuracy: 1.0000 - val_loss: 0.0891 - val_accuracy: 0.9825\n",
            "Epoch 30/30\n",
            "2000/2000 [==============================] - 13s 7ms/step - loss: 2.8045e-04 - accuracy: 1.0000 - val_loss: 0.0893 - val_accuracy: 0.9823\n"
          ]
        }
      ]
    },
    {
      "cell_type": "code",
      "source": [
        "score = model.evaluate(x_testv, y_testc, verbose=1) #evaluar la eficiencia del modelo\n",
        "print(score)\n",
        "a=model.predict(x_testv) #predicción de la red entrenada\n",
        "print(a.shape)\n",
        "print(a[1])\n",
        "print(\"resultado correcto:\")\n",
        "print(y_testc[1])"
      ],
      "metadata": {
        "colab": {
          "base_uri": "https://localhost:8080/"
        },
        "id": "ujTZ-zbJwwhB",
        "outputId": "bfc2b0a7-5bfa-4843-c6e6-88b76b1624eb"
      },
      "execution_count": 25,
      "outputs": [
        {
          "output_type": "stream",
          "name": "stdout",
          "text": [
            "313/313 [==============================] - 1s 3ms/step - loss: 0.0893 - accuracy: 0.9823\n",
            "[0.08931652456521988, 0.9822999835014343]\n",
            "313/313 [==============================] - 1s 3ms/step\n",
            "(10000, 10)\n",
            "[8.4797597e-01 6.8569648e-01 9.9999994e-01 4.1530904e-01 7.3882245e-02\n",
            " 6.3172821e-04 5.8036372e-02 2.7247328e-01 9.4914395e-01 8.4731862e-04]\n",
            "resultado correcto:\n",
            "[0. 0. 1. 0. 0. 0. 0. 0. 0. 0.]\n"
          ]
        }
      ]
    }
  ]
}