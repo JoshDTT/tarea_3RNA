{
  "nbformat": 4,
  "nbformat_minor": 0,
  "metadata": {
    "colab": {
      "provenance": [],
      "authorship_tag": "ABX9TyMpQUsCmUPo7YlWveXibV11"
    },
    "kernelspec": {
      "name": "python3",
      "display_name": "Python 3"
    },
    "language_info": {
      "name": "python"
    }
  },
  "cells": [
    {
      "cell_type": "code",
      "execution_count": 1,
      "metadata": {
        "id": "ZL2vRO2sOeLB"
      },
      "outputs": [],
      "source": [
        "import tensorflow as tf\n",
        "from tensorflow import keras\n",
        "from tensorflow.keras.datasets import mnist\n",
        "from tensorflow.keras.models import Sequential\n",
        "from tensorflow.keras.layers import Dense, Dropout, Activation\n",
        "from tensorflow.keras.optimizers import RMSprop, SGD\n",
        "from tensorflow.keras import regularizers\n",
        "from keras.regularizers import l1, l2\n",
        "import numpy as np\n"
      ]
    },
    {
      "cell_type": "code",
      "source": [
        "learning_rate = 1.5\n",
        "epochs = 30\n",
        "batch_size = 100"
      ],
      "metadata": {
        "id": "HlWcQo1vPUZO"
      },
      "execution_count": 2,
      "outputs": []
    },
    {
      "cell_type": "code",
      "source": [
        "dataset=mnist.load_data()"
      ],
      "metadata": {
        "id": "9HVV0QY-PVLl",
        "colab": {
          "base_uri": "https://localhost:8080/"
        },
        "outputId": "7c6bed29-6ba1-40da-bdcf-d111bc84fc06"
      },
      "execution_count": 3,
      "outputs": [
        {
          "output_type": "stream",
          "name": "stdout",
          "text": [
            "Downloading data from https://storage.googleapis.com/tensorflow/tf-keras-datasets/mnist.npz\n",
            "11490434/11490434 [==============================] - 0s 0us/step\n"
          ]
        }
      ]
    },
    {
      "cell_type": "code",
      "source": [
        "dat=np.array(dataset)\n",
        "print(dat[1,1].shape)\n",
        "(x_train, y_train), (x_test, y_test) = dataset"
      ],
      "metadata": {
        "colab": {
          "base_uri": "https://localhost:8080/"
        },
        "id": "f_bw2KFmPcNk",
        "outputId": "b211d02d-17fd-4155-c05b-7572fb5f86f4"
      },
      "execution_count": 4,
      "outputs": [
        {
          "output_type": "stream",
          "name": "stdout",
          "text": [
            "(10000,)\n"
          ]
        },
        {
          "output_type": "stream",
          "name": "stderr",
          "text": [
            "<ipython-input-4-d86b9ee74159>:1: VisibleDeprecationWarning: Creating an ndarray from ragged nested sequences (which is a list-or-tuple of lists-or-tuples-or ndarrays with different lengths or shapes) is deprecated. If you meant to do this, you must specify 'dtype=object' when creating the ndarray.\n",
            "  dat=np.array(dataset)\n"
          ]
        }
      ]
    },
    {
      "cell_type": "code",
      "source": [
        "x_train.shape"
      ],
      "metadata": {
        "colab": {
          "base_uri": "https://localhost:8080/"
        },
        "id": "V_CvPTv-QEOI",
        "outputId": "34876b89-141e-40d7-b4a9-01115679e4bf"
      },
      "execution_count": 5,
      "outputs": [
        {
          "output_type": "execute_result",
          "data": {
            "text/plain": [
              "(60000, 28, 28)"
            ]
          },
          "metadata": {},
          "execution_count": 5
        }
      ]
    },
    {
      "cell_type": "code",
      "source": [
        "x_trainv = x_train.reshape(60000, 784)\n",
        "x_testv = x_test.reshape(10000, 784)\n",
        "x_trainv = x_trainv.astype('float32')\n",
        "x_testv = x_testv.astype('float32')\n",
        "\n",
        "x_trainv /= 255  # x_trainv = x_trainv/255\n",
        "x_testv /= 255"
      ],
      "metadata": {
        "id": "EKxZZ7KLQH48"
      },
      "execution_count": 6,
      "outputs": []
    },
    {
      "cell_type": "code",
      "source": [
        "print(y_train[10000])"
      ],
      "metadata": {
        "colab": {
          "base_uri": "https://localhost:8080/"
        },
        "id": "_XIUQkcJQP_X",
        "outputId": "bf90937a-6fae-4016-c618-d250b7f679a6"
      },
      "execution_count": 7,
      "outputs": [
        {
          "output_type": "stream",
          "name": "stdout",
          "text": [
            "3\n"
          ]
        }
      ]
    },
    {
      "cell_type": "code",
      "source": [
        "num_classes=10\n",
        "y_trainc = keras.utils.to_categorical(y_train, num_classes)\n",
        "y_testc = keras.utils.to_categorical(y_test, num_classes)"
      ],
      "metadata": {
        "id": "L-Tyn14lQd5N"
      },
      "execution_count": 8,
      "outputs": []
    },
    {
      "cell_type": "code",
      "source": [
        "y_trainc[10000]"
      ],
      "metadata": {
        "colab": {
          "base_uri": "https://localhost:8080/"
        },
        "id": "bkUVEfR5Qg7N",
        "outputId": "651b6e1d-f872-4a33-fa79-8ed4230adc8a"
      },
      "execution_count": 9,
      "outputs": [
        {
          "output_type": "execute_result",
          "data": {
            "text/plain": [
              "array([0., 0., 0., 1., 0., 0., 0., 0., 0., 0.], dtype=float32)"
            ]
          },
          "metadata": {},
          "execution_count": 9
        }
      ]
    },
    {
      "cell_type": "code",
      "source": [
        "# @title Default title text\n",
        "model = Sequential()\n",
        "model.add(Dense(784, activation='sigmoid', input_shape=(784,)))\n",
        "model.add(Dense(30, activation='sigmoid'))\n",
        "model.add(Dense(30,activation='sigmoid',kernel_regularizer=regularizers.l1(0.2)))\n",
        "model.add(Dense(30,activation='sigmoid',kernel_regularizer=regularizers.l1(0.2)))\n",
        "model.add(Dense(num_classes, activation='sigmoid'))\n",
        "\n",
        "model.summary()"
      ],
      "metadata": {
        "colab": {
          "base_uri": "https://localhost:8080/"
        },
        "id": "LQM0llJVQoPE",
        "outputId": "6232c3b5-d65b-4b9e-f8da-fa2f105e9858"
      },
      "execution_count": 27,
      "outputs": [
        {
          "output_type": "stream",
          "name": "stdout",
          "text": [
            "Model: \"sequential_5\"\n",
            "_________________________________________________________________\n",
            " Layer (type)                Output Shape              Param #   \n",
            "=================================================================\n",
            " dense_25 (Dense)            (None, 784)               615440    \n",
            "                                                                 \n",
            " dense_26 (Dense)            (None, 30)                23550     \n",
            "                                                                 \n",
            " dense_27 (Dense)            (None, 30)                930       \n",
            "                                                                 \n",
            " dense_28 (Dense)            (None, 30)                930       \n",
            "                                                                 \n",
            " dense_29 (Dense)            (None, 10)                310       \n",
            "                                                                 \n",
            "=================================================================\n",
            "Total params: 641160 (2.45 MB)\n",
            "Trainable params: 641160 (2.45 MB)\n",
            "Non-trainable params: 0 (0.00 Byte)\n",
            "_________________________________________________________________\n"
          ]
        }
      ]
    },
    {
      "cell_type": "code",
      "source": [
        "model.compile(loss='categorical_crossentropy',optimizer=SGD(learning_rate=learning_rate),metrics=['accuracy'])"
      ],
      "metadata": {
        "id": "C3T7yFuBwmul"
      },
      "execution_count": 29,
      "outputs": []
    },
    {
      "cell_type": "code",
      "source": [
        "history = model.fit(x_trainv, y_trainc,\n",
        "                    batch_size=batch_size,\n",
        "                    epochs=epochs,\n",
        "                    verbose=1,\n",
        "                    validation_data=(x_testv, y_testc)\n",
        "                    )"
      ],
      "metadata": {
        "colab": {
          "base_uri": "https://localhost:8080/"
        },
        "id": "oPN5h_rNws62",
        "outputId": "075a541e-ef3f-41af-8674-b049e433a313"
      },
      "execution_count": 30,
      "outputs": [
        {
          "output_type": "stream",
          "name": "stdout",
          "text": [
            "Epoch 1/30\n",
            "600/600 [==============================] - 7s 10ms/step - loss: 56.3412 - accuracy: 0.1033 - val_loss: 58.1477 - val_accuracy: 0.1028\n",
            "Epoch 2/30\n",
            "600/600 [==============================] - 5s 8ms/step - loss: 56.2955 - accuracy: 0.1070 - val_loss: 57.4138 - val_accuracy: 0.0982\n",
            "Epoch 3/30\n",
            "600/600 [==============================] - 6s 10ms/step - loss: 56.2959 - accuracy: 0.1158 - val_loss: 56.5257 - val_accuracy: 0.1032\n",
            "Epoch 4/30\n",
            "600/600 [==============================] - 5s 8ms/step - loss: 56.3018 - accuracy: 0.1091 - val_loss: 56.4303 - val_accuracy: 0.0974\n",
            "Epoch 5/30\n",
            "600/600 [==============================] - 5s 8ms/step - loss: 56.2984 - accuracy: 0.1103 - val_loss: 56.4580 - val_accuracy: 0.0982\n",
            "Epoch 6/30\n",
            "600/600 [==============================] - 6s 10ms/step - loss: 56.3027 - accuracy: 0.1103 - val_loss: 56.9745 - val_accuracy: 0.0982\n",
            "Epoch 7/30\n",
            "600/600 [==============================] - 5s 8ms/step - loss: 56.3091 - accuracy: 0.1053 - val_loss: 56.7866 - val_accuracy: 0.1010\n",
            "Epoch 8/30\n",
            "600/600 [==============================] - 6s 10ms/step - loss: 56.3044 - accuracy: 0.1072 - val_loss: 56.9918 - val_accuracy: 0.1135\n",
            "Epoch 9/30\n",
            "600/600 [==============================] - 5s 8ms/step - loss: 56.2998 - accuracy: 0.1085 - val_loss: 56.8359 - val_accuracy: 0.1009\n",
            "Epoch 10/30\n",
            "600/600 [==============================] - 5s 9ms/step - loss: 56.3080 - accuracy: 0.1032 - val_loss: 57.3599 - val_accuracy: 0.1135\n",
            "Epoch 11/30\n",
            "600/600 [==============================] - 5s 9ms/step - loss: 56.3072 - accuracy: 0.1059 - val_loss: 57.8923 - val_accuracy: 0.1009\n",
            "Epoch 12/30\n",
            "600/600 [==============================] - 5s 8ms/step - loss: 56.3027 - accuracy: 0.1090 - val_loss: 56.7067 - val_accuracy: 0.0980\n",
            "Epoch 13/30\n",
            "600/600 [==============================] - 6s 10ms/step - loss: 56.3058 - accuracy: 0.1044 - val_loss: 57.1120 - val_accuracy: 0.1135\n",
            "Epoch 14/30\n",
            "600/600 [==============================] - 5s 8ms/step - loss: 56.3037 - accuracy: 0.1080 - val_loss: 56.8043 - val_accuracy: 0.1028\n",
            "Epoch 15/30\n",
            "600/600 [==============================] - 5s 8ms/step - loss: 56.3029 - accuracy: 0.1070 - val_loss: 56.4633 - val_accuracy: 0.1135\n",
            "Epoch 16/30\n",
            "600/600 [==============================] - 5s 9ms/step - loss: 56.3002 - accuracy: 0.1076 - val_loss: 55.8548 - val_accuracy: 0.0974\n",
            "Epoch 17/30\n",
            "600/600 [==============================] - 5s 8ms/step - loss: 56.3068 - accuracy: 0.1040 - val_loss: 56.0373 - val_accuracy: 0.1028\n",
            "Epoch 18/30\n",
            "600/600 [==============================] - 6s 10ms/step - loss: 56.3042 - accuracy: 0.1065 - val_loss: 56.3907 - val_accuracy: 0.2085\n",
            "Epoch 19/30\n",
            "600/600 [==============================] - 5s 8ms/step - loss: 56.3055 - accuracy: 0.1081 - val_loss: 56.2822 - val_accuracy: 0.1010\n",
            "Epoch 20/30\n",
            "600/600 [==============================] - 5s 8ms/step - loss: 56.3029 - accuracy: 0.1068 - val_loss: 57.0448 - val_accuracy: 0.1135\n",
            "Epoch 21/30\n",
            "600/600 [==============================] - 6s 9ms/step - loss: 56.3058 - accuracy: 0.1047 - val_loss: 56.9688 - val_accuracy: 0.1135\n",
            "Epoch 22/30\n",
            "600/600 [==============================] - 5s 8ms/step - loss: 56.3036 - accuracy: 0.1044 - val_loss: 56.7302 - val_accuracy: 0.1135\n",
            "Epoch 23/30\n",
            "600/600 [==============================] - 6s 10ms/step - loss: 56.3064 - accuracy: 0.1073 - val_loss: 56.1992 - val_accuracy: 0.1135\n",
            "Epoch 24/30\n",
            "600/600 [==============================] - 5s 8ms/step - loss: 56.3065 - accuracy: 0.1080 - val_loss: 56.5447 - val_accuracy: 0.1135\n",
            "Epoch 25/30\n",
            "600/600 [==============================] - 5s 8ms/step - loss: 56.3061 - accuracy: 0.1053 - val_loss: 56.6091 - val_accuracy: 0.0982\n",
            "Epoch 26/30\n",
            "600/600 [==============================] - 6s 9ms/step - loss: 56.3065 - accuracy: 0.1060 - val_loss: 56.0583 - val_accuracy: 0.1028\n",
            "Epoch 27/30\n",
            "600/600 [==============================] - 5s 8ms/step - loss: 56.3042 - accuracy: 0.1073 - val_loss: 55.7797 - val_accuracy: 0.1010\n",
            "Epoch 28/30\n",
            "600/600 [==============================] - 6s 10ms/step - loss: 56.3034 - accuracy: 0.1077 - val_loss: 55.8516 - val_accuracy: 0.0974\n",
            "Epoch 29/30\n",
            "600/600 [==============================] - 5s 8ms/step - loss: 56.3014 - accuracy: 0.1076 - val_loss: 56.3103 - val_accuracy: 0.1135\n",
            "Epoch 30/30\n",
            "600/600 [==============================] - 5s 8ms/step - loss: 56.3012 - accuracy: 0.1097 - val_loss: 56.2379 - val_accuracy: 0.1032\n"
          ]
        }
      ]
    },
    {
      "cell_type": "code",
      "source": [
        "score = model.evaluate(x_testv, y_testc, verbose=1) #evaluar la eficiencia del modelo\n",
        "print(score)\n",
        "a=model.predict(x_testv) #predicción de la red entrenada\n",
        "print(a.shape)\n",
        "print(a[1])\n",
        "print(\"resultado correcto:\")\n",
        "print(y_testc[1])"
      ],
      "metadata": {
        "id": "ujTZ-zbJwwhB"
      },
      "execution_count": null,
      "outputs": []
    }
  ]
}